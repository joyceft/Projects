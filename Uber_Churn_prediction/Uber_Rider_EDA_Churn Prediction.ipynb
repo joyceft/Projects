{
 "cells": [
  {
   "cell_type": "code",
   "execution_count": 1,
   "metadata": {
    "collapsed": true
   },
   "outputs": [],
   "source": [
    "import numpy as np\n",
    "import pandas as pd\n",
    "import matplotlib.pyplot as plt\n",
    "%matplotlib inline\n",
    "plt.style.use('ggplot')\n",
    "import seaborn as sns\n",
    "color = sns.color_palette()"
   ]
  },
  {
   "cell_type": "markdown",
   "metadata": {},
   "source": [
    "## Load, Clean & EDA"
   ]
  },
  {
   "cell_type": "code",
   "execution_count": 73,
   "metadata": {},
   "outputs": [
    {
     "data": {
      "text/html": [
       "<div>\n",
       "<style>\n",
       "    .dataframe thead tr:only-child th {\n",
       "        text-align: right;\n",
       "    }\n",
       "\n",
       "    .dataframe thead th {\n",
       "        text-align: left;\n",
       "    }\n",
       "\n",
       "    .dataframe tbody tr th {\n",
       "        vertical-align: top;\n",
       "    }\n",
       "</style>\n",
       "<table border=\"1\" class=\"dataframe\">\n",
       "  <thead>\n",
       "    <tr style=\"text-align: right;\">\n",
       "      <th></th>\n",
       "      <th>avg_dist</th>\n",
       "      <th>avg_rating_by_driver</th>\n",
       "      <th>avg_rating_of_driver</th>\n",
       "      <th>avg_surge</th>\n",
       "      <th>city</th>\n",
       "      <th>last_trip_date</th>\n",
       "      <th>phone</th>\n",
       "      <th>signup_date</th>\n",
       "      <th>surge_pct</th>\n",
       "      <th>trips_in_first_30_days</th>\n",
       "      <th>luxury_car_user</th>\n",
       "      <th>weekday_pct</th>\n",
       "    </tr>\n",
       "  </thead>\n",
       "  <tbody>\n",
       "    <tr>\n",
       "      <th>0</th>\n",
       "      <td>3.67</td>\n",
       "      <td>5.0</td>\n",
       "      <td>4.7</td>\n",
       "      <td>1.10</td>\n",
       "      <td>King's Landing</td>\n",
       "      <td>2014-06-17</td>\n",
       "      <td>iPhone</td>\n",
       "      <td>2014-01-25</td>\n",
       "      <td>15.4</td>\n",
       "      <td>4</td>\n",
       "      <td>True</td>\n",
       "      <td>46.2</td>\n",
       "    </tr>\n",
       "    <tr>\n",
       "      <th>1</th>\n",
       "      <td>8.26</td>\n",
       "      <td>5.0</td>\n",
       "      <td>5.0</td>\n",
       "      <td>1.00</td>\n",
       "      <td>Astapor</td>\n",
       "      <td>2014-05-05</td>\n",
       "      <td>Android</td>\n",
       "      <td>2014-01-29</td>\n",
       "      <td>0.0</td>\n",
       "      <td>0</td>\n",
       "      <td>False</td>\n",
       "      <td>50.0</td>\n",
       "    </tr>\n",
       "    <tr>\n",
       "      <th>2</th>\n",
       "      <td>0.77</td>\n",
       "      <td>5.0</td>\n",
       "      <td>4.3</td>\n",
       "      <td>1.00</td>\n",
       "      <td>Astapor</td>\n",
       "      <td>2014-01-07</td>\n",
       "      <td>iPhone</td>\n",
       "      <td>2014-01-06</td>\n",
       "      <td>0.0</td>\n",
       "      <td>3</td>\n",
       "      <td>False</td>\n",
       "      <td>100.0</td>\n",
       "    </tr>\n",
       "    <tr>\n",
       "      <th>3</th>\n",
       "      <td>2.36</td>\n",
       "      <td>4.9</td>\n",
       "      <td>4.6</td>\n",
       "      <td>1.14</td>\n",
       "      <td>King's Landing</td>\n",
       "      <td>2014-06-29</td>\n",
       "      <td>iPhone</td>\n",
       "      <td>2014-01-10</td>\n",
       "      <td>20.0</td>\n",
       "      <td>9</td>\n",
       "      <td>True</td>\n",
       "      <td>80.0</td>\n",
       "    </tr>\n",
       "    <tr>\n",
       "      <th>4</th>\n",
       "      <td>3.13</td>\n",
       "      <td>4.9</td>\n",
       "      <td>4.4</td>\n",
       "      <td>1.19</td>\n",
       "      <td>Winterfell</td>\n",
       "      <td>2014-03-15</td>\n",
       "      <td>Android</td>\n",
       "      <td>2014-01-27</td>\n",
       "      <td>11.8</td>\n",
       "      <td>14</td>\n",
       "      <td>False</td>\n",
       "      <td>82.4</td>\n",
       "    </tr>\n",
       "  </tbody>\n",
       "</table>\n",
       "</div>"
      ],
      "text/plain": [
       "   avg_dist  avg_rating_by_driver  avg_rating_of_driver  avg_surge  \\\n",
       "0      3.67                   5.0                   4.7       1.10   \n",
       "1      8.26                   5.0                   5.0       1.00   \n",
       "2      0.77                   5.0                   4.3       1.00   \n",
       "3      2.36                   4.9                   4.6       1.14   \n",
       "4      3.13                   4.9                   4.4       1.19   \n",
       "\n",
       "             city last_trip_date    phone signup_date  surge_pct  \\\n",
       "0  King's Landing     2014-06-17   iPhone  2014-01-25       15.4   \n",
       "1         Astapor     2014-05-05  Android  2014-01-29        0.0   \n",
       "2         Astapor     2014-01-07   iPhone  2014-01-06        0.0   \n",
       "3  King's Landing     2014-06-29   iPhone  2014-01-10       20.0   \n",
       "4      Winterfell     2014-03-15  Android  2014-01-27       11.8   \n",
       "\n",
       "   trips_in_first_30_days  luxury_car_user  weekday_pct  \n",
       "0                       4             True         46.2  \n",
       "1                       0            False         50.0  \n",
       "2                       3            False        100.0  \n",
       "3                       9             True         80.0  \n",
       "4                      14            False         82.4  "
      ]
     },
     "execution_count": 73,
     "metadata": {},
     "output_type": "execute_result"
    }
   ],
   "source": [
    "uber = pd.read_csv(\"churn.csv\")\n",
    "uber.head()\n",
    "#some description of dataset\n",
    "#surge means: \n",
    "#the price will increase during rush hours. surge pricing depends on\n",
    "#the location of pickup. when driver receive a pickup request from a surging area,\n",
    "#the trip requests a surge multiplier.(1.3X, 2.1X), the multiplier applies on the \n",
    "#base, time, distance, fare but not on cancellation fee, tolls,...\n",
    "#surge_pct: the precent of trips taken with surge multiplier"
   ]
  },
  {
   "cell_type": "code",
   "execution_count": 14,
   "metadata": {},
   "outputs": [
    {
     "name": "stdout",
     "output_type": "stream",
     "text": [
      "<class 'pandas.core.frame.DataFrame'>\n",
      "RangeIndex: 50000 entries, 0 to 49999\n",
      "Data columns (total 12 columns):\n",
      "avg_dist                  50000 non-null float64\n",
      "avg_rating_by_driver      49799 non-null float64\n",
      "avg_rating_of_driver      41878 non-null float64\n",
      "avg_surge                 50000 non-null float64\n",
      "city                      50000 non-null object\n",
      "last_trip_date            50000 non-null object\n",
      "phone                     49604 non-null object\n",
      "signup_date               50000 non-null object\n",
      "surge_pct                 50000 non-null float64\n",
      "trips_in_first_30_days    50000 non-null int64\n",
      "luxury_car_user           50000 non-null bool\n",
      "weekday_pct               50000 non-null float64\n",
      "dtypes: bool(1), float64(6), int64(1), object(4)\n",
      "memory usage: 4.2+ MB\n",
      "None\n",
      "           avg_dist  avg_rating_by_driver  avg_rating_of_driver     avg_surge  \\\n",
      "count  50000.000000          49799.000000          41878.000000  50000.000000   \n",
      "mean       5.796827              4.778158              4.601559      1.074764   \n",
      "std        5.707357              0.446652              0.617338      0.222336   \n",
      "min        0.000000              1.000000              1.000000      1.000000   \n",
      "25%        2.420000              4.700000              4.300000      1.000000   \n",
      "50%        3.880000              5.000000              4.900000      1.000000   \n",
      "75%        6.940000              5.000000              5.000000      1.050000   \n",
      "max      160.960000              5.000000              5.000000      8.000000   \n",
      "\n",
      "          surge_pct  trips_in_first_30_days   weekday_pct  \n",
      "count  50000.000000            50000.000000  50000.000000  \n",
      "mean       8.849536                2.278200     60.926084  \n",
      "std       19.958811                3.792684     37.081503  \n",
      "min        0.000000                0.000000      0.000000  \n",
      "25%        0.000000                0.000000     33.300000  \n",
      "50%        0.000000                1.000000     66.700000  \n",
      "75%        8.600000                3.000000    100.000000  \n",
      "max      100.000000              125.000000    100.000000  \n",
      "avg_dist                     0\n",
      "avg_rating_by_driver       201\n",
      "avg_rating_of_driver      8122\n",
      "avg_surge                    0\n",
      "city                         0\n",
      "last_trip_date               0\n",
      "phone                      396\n",
      "signup_date                  0\n",
      "surge_pct                    0\n",
      "trips_in_first_30_days       0\n",
      "luxury_car_user              0\n",
      "weekday_pct                  0\n",
      "dtype: int64\n"
     ]
    }
   ],
   "source": [
    "print(uber.info())\n",
    "#shows avg_rate_by_driver/avg_rate_of_driver/phone have nan values\n",
    "print(uber.describe())\n",
    "#count how many missing value in each variable\n",
    "print(uber.isnull().sum())"
   ]
  },
  {
   "cell_type": "code",
   "execution_count": 76,
   "metadata": {
    "collapsed": true
   },
   "outputs": [],
   "source": [
    "#change date variables into date type\n",
    "def parse_date(date):\n",
    "    if date == \"\":\n",
    "        return None\n",
    "    else:\n",
    "        return dt.strptime(date, \"%Y-%m-%d\")\n",
    "    \n",
    "    \n",
    "uber['last_trip_date'] = pd.to_datetime(uber['last_trip_date'], format='%Y-%m-%d')\n",
    "uber['signup_date'] = pd.to_datetime(uber['signup_date'], format ='%Y-%m-%d')"
   ]
  },
  {
   "cell_type": "code",
   "execution_count": 16,
   "metadata": {},
   "outputs": [
    {
     "data": {
      "text/html": [
       "<div>\n",
       "<style>\n",
       "    .dataframe thead tr:only-child th {\n",
       "        text-align: right;\n",
       "    }\n",
       "\n",
       "    .dataframe thead th {\n",
       "        text-align: left;\n",
       "    }\n",
       "\n",
       "    .dataframe tbody tr th {\n",
       "        vertical-align: top;\n",
       "    }\n",
       "</style>\n",
       "<table border=\"1\" class=\"dataframe\">\n",
       "  <thead>\n",
       "    <tr style=\"text-align: right;\">\n",
       "      <th></th>\n",
       "      <th>avg_dist</th>\n",
       "      <th>avg_rating_by_driver</th>\n",
       "      <th>avg_rating_of_driver</th>\n",
       "      <th>avg_surge</th>\n",
       "      <th>city</th>\n",
       "      <th>last_trip_date</th>\n",
       "      <th>phone</th>\n",
       "      <th>signup_date</th>\n",
       "      <th>surge_pct</th>\n",
       "      <th>trips_in_first_30_days</th>\n",
       "      <th>luxury_car_user</th>\n",
       "      <th>weekday_pct</th>\n",
       "    </tr>\n",
       "  </thead>\n",
       "  <tbody>\n",
       "    <tr>\n",
       "      <th>0</th>\n",
       "      <td>3.67</td>\n",
       "      <td>5.0</td>\n",
       "      <td>4.7</td>\n",
       "      <td>1.10</td>\n",
       "      <td>King's Landing</td>\n",
       "      <td>2014-06-17</td>\n",
       "      <td>iPhone</td>\n",
       "      <td>2014-01-25</td>\n",
       "      <td>15.4</td>\n",
       "      <td>4</td>\n",
       "      <td>True</td>\n",
       "      <td>46.2</td>\n",
       "    </tr>\n",
       "    <tr>\n",
       "      <th>1</th>\n",
       "      <td>8.26</td>\n",
       "      <td>5.0</td>\n",
       "      <td>5.0</td>\n",
       "      <td>1.00</td>\n",
       "      <td>Astapor</td>\n",
       "      <td>2014-05-05</td>\n",
       "      <td>Android</td>\n",
       "      <td>2014-01-29</td>\n",
       "      <td>0.0</td>\n",
       "      <td>0</td>\n",
       "      <td>False</td>\n",
       "      <td>50.0</td>\n",
       "    </tr>\n",
       "    <tr>\n",
       "      <th>2</th>\n",
       "      <td>0.77</td>\n",
       "      <td>5.0</td>\n",
       "      <td>4.3</td>\n",
       "      <td>1.00</td>\n",
       "      <td>Astapor</td>\n",
       "      <td>2014-01-07</td>\n",
       "      <td>iPhone</td>\n",
       "      <td>2014-01-06</td>\n",
       "      <td>0.0</td>\n",
       "      <td>3</td>\n",
       "      <td>False</td>\n",
       "      <td>100.0</td>\n",
       "    </tr>\n",
       "    <tr>\n",
       "      <th>3</th>\n",
       "      <td>2.36</td>\n",
       "      <td>4.9</td>\n",
       "      <td>4.6</td>\n",
       "      <td>1.14</td>\n",
       "      <td>King's Landing</td>\n",
       "      <td>2014-06-29</td>\n",
       "      <td>iPhone</td>\n",
       "      <td>2014-01-10</td>\n",
       "      <td>20.0</td>\n",
       "      <td>9</td>\n",
       "      <td>True</td>\n",
       "      <td>80.0</td>\n",
       "    </tr>\n",
       "    <tr>\n",
       "      <th>4</th>\n",
       "      <td>3.13</td>\n",
       "      <td>4.9</td>\n",
       "      <td>4.4</td>\n",
       "      <td>1.19</td>\n",
       "      <td>Winterfell</td>\n",
       "      <td>2014-03-15</td>\n",
       "      <td>Android</td>\n",
       "      <td>2014-01-27</td>\n",
       "      <td>11.8</td>\n",
       "      <td>14</td>\n",
       "      <td>False</td>\n",
       "      <td>82.4</td>\n",
       "    </tr>\n",
       "  </tbody>\n",
       "</table>\n",
       "</div>"
      ],
      "text/plain": [
       "   avg_dist  avg_rating_by_driver  avg_rating_of_driver  avg_surge  \\\n",
       "0      3.67                   5.0                   4.7       1.10   \n",
       "1      8.26                   5.0                   5.0       1.00   \n",
       "2      0.77                   5.0                   4.3       1.00   \n",
       "3      2.36                   4.9                   4.6       1.14   \n",
       "4      3.13                   4.9                   4.4       1.19   \n",
       "\n",
       "             city last_trip_date    phone signup_date  surge_pct  \\\n",
       "0  King's Landing     2014-06-17   iPhone  2014-01-25       15.4   \n",
       "1         Astapor     2014-05-05  Android  2014-01-29        0.0   \n",
       "2         Astapor     2014-01-07   iPhone  2014-01-06        0.0   \n",
       "3  King's Landing     2014-06-29   iPhone  2014-01-10       20.0   \n",
       "4      Winterfell     2014-03-15  Android  2014-01-27       11.8   \n",
       "\n",
       "   trips_in_first_30_days  luxury_car_user  weekday_pct  \n",
       "0                       4             True         46.2  \n",
       "1                       0            False         50.0  \n",
       "2                       3            False        100.0  \n",
       "3                       9             True         80.0  \n",
       "4                      14            False         82.4  "
      ]
     },
     "execution_count": 16,
     "metadata": {},
     "output_type": "execute_result"
    }
   ],
   "source": [
    "uber.head()"
   ]
  },
  {
   "cell_type": "code",
   "execution_count": 5,
   "metadata": {},
   "outputs": [
    {
     "data": {
      "text/plain": [
       "{dtype('float64'): Index(['avg_dist', 'avg_rating_by_driver', 'avg_rating_of_driver', 'avg_surge',\n",
       "        'surge_pct', 'weekday_pct'],\n",
       "       dtype='object'),\n",
       " dtype('<M8[ns]'): Index(['last_trip_date', 'signup_date'], dtype='object'),\n",
       " dtype('bool'): Index(['luxury_car_user'], dtype='object'),\n",
       " dtype('int64'): Index(['trips_in_first_30_days'], dtype='object'),\n",
       " dtype('O'): Index(['city', 'phone'], dtype='object')}"
      ]
     },
     "execution_count": 5,
     "metadata": {},
     "output_type": "execute_result"
    }
   ],
   "source": [
    "#explore data\n",
    "#1.numeric variables\n",
    "#group variables by their type\n",
    "uber_type = uber.columns.to_series().groupby(uber.dtypes).groups\n",
    "uber_type"
   ]
  },
  {
   "cell_type": "code",
   "execution_count": 11,
   "metadata": {},
   "outputs": [
    {
     "name": "stdout",
     "output_type": "stream",
     "text": [
      "avg_dist\n",
      "avg_rating_by_driver\n",
      "avg_rating_of_driver\n",
      "avg_surge\n",
      "city\n",
      "last_trip_date\n",
      "phone\n",
      "signup_date\n",
      "surge_pct\n",
      "trips_in_first_30_days\n",
      "luxury_car_user\n",
      "weekday_pct\n"
     ]
    },
    {
     "data": {
      "image/png": "[encoded data removed]",
      "text/plain": [
       "<matplotlib.figure.Figure at 0x273edfc7b38>"
      ]
     },
     "metadata": {},
     "output_type": "display_data"
    }
   ],
   "source": []
  },
  {
   "cell_type": "code",
   "execution_count": 6,
   "metadata": {},
   "outputs": [
    {
     "data": {
      "text/plain": [
       "<matplotlib.figure.Figure at 0x273ed3409e8>"
      ]
     },
     "metadata": {},
     "output_type": "display_data"
    },
    {
     "data": {
      "image/png": "[encoded data removed]",
      "text/plain": [
       "<matplotlib.figure.Figure at 0x273ed3a6b70>"
      ]
     },
     "metadata": {},
     "output_type": "display_data"
    },
    {
     "data": {
      "text/plain": [
       "<matplotlib.figure.Figure at 0x273ed3a6e10>"
      ]
     },
     "metadata": {},
     "output_type": "display_data"
    },
    {
     "data": {
      "text/plain": [
       "<matplotlib.figure.Figure at 0x273ee66f2b0>"
      ]
     },
     "metadata": {},
     "output_type": "display_data"
    },
    {
     "data": {
      "text/plain": [
       "<matplotlib.figure.Figure at 0x273ee3b8a58>"
      ]
     },
     "metadata": {},
     "output_type": "display_data"
    },
    {
     "data": {
      "image/png": "[encoded data removed]",
      "text/plain": [
       "<matplotlib.figure.Figure at 0x273ee3b81d0>"
      ]
     },
     "metadata": {},
     "output_type": "display_data"
    },
    {
     "data": {
      "text/plain": [
       "<matplotlib.figure.Figure at 0x273ee3b8128>"
      ]
     },
     "metadata": {},
     "output_type": "display_data"
    }
   ],
   "source": [
    "\n",
    "for key, value in uber_type.items():\n",
    "    fig= plt.figure()\n",
    "    if key == \"float64\":\n",
    "        uber[value].plot.hist(bins = 30, alpha = 0.6)\n",
    "        plt.xlabel(\"$key$ value\")\n",
    "        plt.title(r\"Histogram of $key$ in Uber Case\")\n",
    "    if key =='int64':\n",
    "        uber[value].plot.hist(bins = 20, alpha = 0.7)\n",
    "        #plt.xlabel(\"value\")\n",
    "        #plt.title(r\"Histogram of numerical variables in Uber Case\")\n",
    "############\n"
   ]
  },
  {
   "cell_type": "code",
   "execution_count": 12,
   "metadata": {},
   "outputs": [
    {
     "data": {
      "text/plain": [
       "<matplotlib.text.Text at 0x273ef986978>"
      ]
     },
     "execution_count": 12,
     "metadata": {},
     "output_type": "execute_result"
    },
    {
     "data": {
      "image/png": "[encoded data removed]",
      "text/plain": [
       "<matplotlib.figure.Figure at 0x273ee30d828>"
      ]
     },
     "metadata": {},
     "output_type": "display_data"
    }
   ],
   "source": [
    "#since not all the variables are in the same scaler, shows them in one plot is confusing\n",
    "fig = plt.figure()\n",
    "plt.hist(uber['avg_dist'],bins = 30, alpha = 0.6)\n",
    "plt.xlabel(\"value\")\n",
    "plt.title(r\"Histogram of avg_dist in Uber Case\")"
   ]
  },
  {
   "cell_type": "code",
   "execution_count": 13,
   "metadata": {},
   "outputs": [
    {
     "data": {
      "text/plain": [
       "<matplotlib.axes._subplots.AxesSubplot at 0x273ee47f8d0>"
      ]
     },
     "execution_count": 13,
     "metadata": {},
     "output_type": "execute_result"
    },
    {
     "data": {
      "image/png": "[encoded data removed]",
      "text/plain": [
       "<matplotlib.figure.Figure at 0x273edf4d630>"
      ]
     },
     "metadata": {},
     "output_type": "display_data"
    }
   ],
   "source": [
    "uber['avg_rating_by_driver'].plot.hist(bins = 30, alpha = 0.6)"
   ]
  },
  {
   "cell_type": "code",
   "execution_count": 15,
   "metadata": {},
   "outputs": [
    {
     "data": {
      "text/plain": [
       "<matplotlib.axes._subplots.AxesSubplot at 0x273ef7d8208>"
      ]
     },
     "execution_count": 15,
     "metadata": {},
     "output_type": "execute_result"
    },
    {
     "data": {
      "image/png": "[encoded data removed]",
      "text/plain": [
       "<matplotlib.figure.Figure at 0x273edfa8f60>"
      ]
     },
     "metadata": {},
     "output_type": "display_data"
    }
   ],
   "source": [
    "uber['avg_surge'].plot.hist(bins = 30, alpha = 0.6)\n"
   ]
  },
  {
   "cell_type": "code",
   "execution_count": 16,
   "metadata": {},
   "outputs": [
    {
     "data": {
      "text/plain": [
       "<matplotlib.axes._subplots.AxesSubplot at 0x273ee1dc0b8>"
      ]
     },
     "execution_count": 16,
     "metadata": {},
     "output_type": "execute_result"
    },
    {
     "data": {
      "image/png": "[encoded data removed]",
      "text/plain": [
       "<matplotlib.figure.Figure at 0x273edfb6780>"
      ]
     },
     "metadata": {},
     "output_type": "display_data"
    }
   ],
   "source": [
    "uber['surge_pct'].plot.hist(bins = 30, alpha = 0.6)\n"
   ]
  },
  {
   "cell_type": "code",
   "execution_count": 17,
   "metadata": {},
   "outputs": [
    {
     "data": {
      "text/plain": [
       "<matplotlib.axes._subplots.AxesSubplot at 0x273ef7ac0b8>"
      ]
     },
     "execution_count": 17,
     "metadata": {},
     "output_type": "execute_result"
    },
    {
     "data": {
      "image/png": "[encoded data removed]",
      "text/plain": [
       "<matplotlib.figure.Figure at 0x273edfa8cf8>"
      ]
     },
     "metadata": {},
     "output_type": "display_data"
    }
   ],
   "source": [
    "uber['weekday_pct'].plot.hist(bins = 30, alpha = 0.6)"
   ]
  },
  {
   "cell_type": "code",
   "execution_count": 18,
   "metadata": {},
   "outputs": [
    {
     "name": "stdout",
     "output_type": "stream",
     "text": [
      "Winterfell        23336\n",
      "Astapor           16534\n",
      "King's Landing    10130\n",
      "Name: city, dtype: int64\n"
     ]
    },
    {
     "data": {
      "text/plain": [
       "<matplotlib.axes._subplots.AxesSubplot at 0x273ee4bc0f0>"
      ]
     },
     "execution_count": 18,
     "metadata": {},
     "output_type": "execute_result"
    },
    {
     "data": {
      "image/png": "[encoded data removed]",
      "text/plain": [
       "<matplotlib.figure.Figure at 0x273ef9e35c0>"
      ]
     },
     "metadata": {},
     "output_type": "display_data"
    }
   ],
   "source": [
    "#categorical variables\n",
    "print(uber['city'].value_counts())\n",
    "uber['city'].value_counts().plot.bar()"
   ]
  },
  {
   "cell_type": "code",
   "execution_count": 19,
   "metadata": {},
   "outputs": [
    {
     "name": "stdout",
     "output_type": "stream",
     "text": [
      "iPhone     34582\n",
      "Android    15022\n",
      "Name: phone, dtype: int64\n"
     ]
    },
    {
     "data": {
      "text/plain": [
       "<matplotlib.axes._subplots.AxesSubplot at 0x273ef77f748>"
      ]
     },
     "execution_count": 19,
     "metadata": {},
     "output_type": "execute_result"
    },
    {
     "data": {
      "image/png": "[encoded data removed]",
      "text/plain": [
       "<matplotlib.figure.Figure at 0x273ee081518>"
      ]
     },
     "metadata": {},
     "output_type": "display_data"
    }
   ],
   "source": [
    "print(uber['phone'].value_counts())\n",
    "uber['phone'].value_counts(dropna = False).plot.bar()\n",
    "#we can know rider use iphone much more than riders who use android"
   ]
  },
  {
   "cell_type": "code",
   "execution_count": 20,
   "metadata": {
    "scrolled": true
   },
   "outputs": [
    {
     "name": "stdout",
     "output_type": "stream",
     "text": [
      "False    31146\n",
      "True     18854\n",
      "Name: luxury_car_user, dtype: int64\n"
     ]
    },
    {
     "data": {
      "text/plain": [
       "<matplotlib.axes._subplots.AxesSubplot at 0x273ede8fa90>"
      ]
     },
     "execution_count": 20,
     "metadata": {},
     "output_type": "execute_result"
    },
    {
     "data": {
      "image/png": "[encoded data removed]",
      "text/plain": [
       "<matplotlib.figure.Figure at 0x273ee3c6668>"
      ]
     },
     "metadata": {},
     "output_type": "display_data"
    }
   ],
   "source": [
    "print(uber['luxury_car_user'].value_counts())\n",
    "uber['luxury_car_user'].value_counts().plot.bar()\n",
    "#majority rider prefer normal car"
   ]
  },
  {
   "cell_type": "code",
   "execution_count": 21,
   "metadata": {},
   "outputs": [
    {
     "name": "stdout",
     "output_type": "stream",
     "text": [
      "avg_dist                     0\n",
      "avg_rating_by_driver       201\n",
      "avg_rating_of_driver      8122\n",
      "avg_surge                    0\n",
      "city                         0\n",
      "last_trip_date               0\n",
      "phone                      396\n",
      "signup_date                  0\n",
      "surge_pct                    0\n",
      "trips_in_first_30_days       0\n",
      "luxury_car_user              0\n",
      "weekday_pct                  0\n",
      "dtype: int64\n"
     ]
    }
   ],
   "source": [
    "#dealing with missing data\n",
    "print(uber.isnull().sum())"
   ]
  },
  {
   "cell_type": "code",
   "execution_count": 22,
   "metadata": {},
   "outputs": [
    {
     "name": "stdout",
     "output_type": "stream",
     "text": [
      "<class 'pandas.core.frame.DataFrame'>\n",
      "Int64Index: 41445 entries, 0 to 49998\n",
      "Data columns (total 12 columns):\n",
      "avg_dist                  41445 non-null float64\n",
      "avg_rating_by_driver      41445 non-null float64\n",
      "avg_rating_of_driver      41445 non-null float64\n",
      "avg_surge                 41445 non-null float64\n",
      "city                      41445 non-null object\n",
      "last_trip_date            41445 non-null datetime64[ns]\n",
      "phone                     41445 non-null object\n",
      "signup_date               41445 non-null datetime64[ns]\n",
      "surge_pct                 41445 non-null float64\n",
      "trips_in_first_30_days    41445 non-null int64\n",
      "luxury_car_user           41445 non-null bool\n",
      "weekday_pct               41445 non-null float64\n",
      "dtypes: bool(1), datetime64[ns](2), float64(6), int64(1), object(2)\n",
      "memory usage: 3.8+ MB\n",
      "None\n",
      "           avg_dist  avg_rating_by_driver  avg_rating_of_driver     avg_surge  \\\n",
      "count  41445.000000          41445.000000          41445.000000  41445.000000   \n",
      "mean       5.460046              4.776446              4.601720      1.073822   \n",
      "std        5.145174              0.404606              0.616104      0.198747   \n",
      "min        0.000000              1.000000              1.000000      1.000000   \n",
      "25%        2.420000              4.700000              4.300000      1.000000   \n",
      "50%        3.780000              5.000000              4.900000      1.000000   \n",
      "75%        6.490000              5.000000              5.000000      1.070000   \n",
      "max       79.690000              5.000000              5.000000      8.000000   \n",
      "\n",
      "          surge_pct  trips_in_first_30_days   weekday_pct  \n",
      "count  41445.000000            41445.000000  41445.000000  \n",
      "mean       8.898709                2.609675     61.254897  \n",
      "std       18.322061                4.059336     34.813848  \n",
      "min        0.000000                0.000000      0.000000  \n",
      "25%        0.000000                0.000000     37.500000  \n",
      "50%        0.000000                1.000000     66.700000  \n",
      "75%       11.100000                3.000000    100.000000  \n",
      "max      100.000000              125.000000    100.000000  \n"
     ]
    }
   ],
   "source": [
    "#The esaiest and rudest way is to just drop all rows that having missing values\n",
    "uber_dropna = uber.dropna(axis = 0)\n",
    "print(uber_dropna.info())\n",
    "print(uber_dropna.describe())\n",
    "#it seems like about 4000 rows contains missing value."
   ]
  },
  {
   "cell_type": "code",
   "execution_count": 78,
   "metadata": {},
   "outputs": [
    {
     "name": "stdout",
     "output_type": "stream",
     "text": [
      "<class 'pandas.core.frame.DataFrame'>\n",
      "RangeIndex: 50000 entries, 0 to 49999\n",
      "Data columns (total 12 columns):\n",
      "avg_dist                  50000 non-null float64\n",
      "avg_rating_by_driver      49799 non-null float64\n",
      "avg_rating_of_driver      41878 non-null float64\n",
      "avg_surge                 50000 non-null float64\n",
      "city                      50000 non-null object\n",
      "last_trip_date            50000 non-null datetime64[ns]\n",
      "phone                     49604 non-null object\n",
      "signup_date               50000 non-null datetime64[ns]\n",
      "surge_pct                 50000 non-null float64\n",
      "trips_in_first_30_days    50000 non-null int64\n",
      "luxury_car_user           50000 non-null bool\n",
      "weekday_pct               50000 non-null float64\n",
      "dtypes: bool(1), datetime64[ns](2), float64(6), int64(1), object(2)\n",
      "memory usage: 4.2+ MB\n",
      "None\n",
      "<class 'pandas.core.frame.DataFrame'>\n",
      "RangeIndex: 50000 entries, 0 to 49999\n",
      "Data columns (total 12 columns):\n",
      "avg_dist                  50000 non-null float64\n",
      "avg_rating_by_driver      50000 non-null float64\n",
      "avg_rating_of_driver      50000 non-null float64\n",
      "avg_surge                 50000 non-null float64\n",
      "city                      50000 non-null object\n",
      "last_trip_date            50000 non-null datetime64[ns]\n",
      "phone                     50000 non-null object\n",
      "signup_date               50000 non-null datetime64[ns]\n",
      "surge_pct                 50000 non-null float64\n",
      "trips_in_first_30_days    50000 non-null int64\n",
      "luxury_car_user           50000 non-null bool\n",
      "weekday_pct               50000 non-null float64\n",
      "dtypes: bool(1), datetime64[ns](2), float64(6), int64(1), object(2)\n",
      "memory usage: 4.2+ MB\n",
      "None\n",
      "           avg_dist  avg_rating_by_driver  avg_rating_of_driver     avg_surge  \\\n",
      "count  50000.000000          50000.000000          50000.000000  50000.000000   \n",
      "mean       5.796827              4.779050              4.650038      1.074764   \n",
      "std        5.707357              0.445974              0.575601      0.222336   \n",
      "min        0.000000              1.000000              1.000000      1.000000   \n",
      "25%        2.420000              4.700000              4.500000      1.000000   \n",
      "50%        3.880000              5.000000              4.900000      1.000000   \n",
      "75%        6.940000              5.000000              5.000000      1.050000   \n",
      "max      160.960000              5.000000              5.000000      8.000000   \n",
      "\n",
      "          surge_pct  trips_in_first_30_days   weekday_pct  \n",
      "count  50000.000000            50000.000000  50000.000000  \n",
      "mean       8.849536                2.278200     60.926084  \n",
      "std       19.958811                3.792684     37.081503  \n",
      "min        0.000000                0.000000      0.000000  \n",
      "25%        0.000000                0.000000     33.300000  \n",
      "50%        0.000000                1.000000     66.700000  \n",
      "75%        8.600000                3.000000    100.000000  \n",
      "max      100.000000              125.000000    100.000000  \n"
     ]
    }
   ],
   "source": [
    "#The SECOND WAY is to filling missing data \n",
    "uber_fillna = uber.copy()\n",
    "print(uber_fillna.info())\n",
    "#filling for phone as an example(categorical>>give a new category)\n",
    "uber_fillna['phone'] = uber['phone'].fillna('no_phone')\n",
    "#Filling missin value for rate(continuous>>use mean/median)\n",
    "#if there is large obvious relationship with filling_na variables and others, better fill\n",
    "#according to other non_missing values\n",
    "uber_fillna['avg_rating_by_driver'] = uber_fillna['avg_rating_by_driver'].fillna(uber_fillna['avg_rating_by_driver'].median()) \n",
    "uber_fillna['avg_rating_of_driver'] = uber_fillna['avg_rating_of_driver'].fillna(uber_fillna['avg_rating_of_driver'].median())\n",
    "#but in this case, the rating seems have nothing to do with other features, maybe can check the correlations later\n",
    "print(uber_fillna.info())\n",
    "print(uber_fillna.describe())"
   ]
  },
  {
   "cell_type": "markdown",
   "metadata": {},
   "source": [
    "it seems filled data is better than droped data, because it contains more information \n",
    "Now we can do some feature engineering and segmentation, first based on the Time series data first"
   ]
  },
  {
   "cell_type": "code",
   "execution_count": 5,
   "metadata": {
    "scrolled": false
   },
   "outputs": [
    {
     "name": "stdout",
     "output_type": "stream",
     "text": [
      "            last_trip_date  count\n",
      "signup_date                      \n",
      "2014-01-25      2014-06-17      1\n",
      "2014-01-29      2014-05-05      1\n",
      "2014-01-06      2014-01-07      1\n",
      "2014-01-10      2014-06-29      1\n",
      "2014-01-27      2014-03-15      1\n",
      "signup_date\n",
      "2014-01-01    1737\n",
      "2014-01-02    1004\n",
      "2014-01-03    1213\n",
      "2014-01-04    1485\n",
      "2014-01-05    1343\n",
      "Freq: D, Name: count, dtype: int64\n"
     ]
    },
    {
     "data": {
      "text/plain": [
       "'\\nWe can find from the plot, there is obvious pattern of signup numbers. The intervals between\\neach peaks are almost 7 days, checking the calander, we find those peak dates are almost all Saturdays, while\\nthe vellys are between Monday to Wednesday. It seems reasonable, because people will routinely commute through \\nspecific transportations like train/subway during weekdays, they are more likely take Uber during Weekends when they need to \\ngo out.\\n'"
      ]
     },
     "execution_count": 5,
     "metadata": {},
     "output_type": "execute_result"
    },
    {
     "data": {
      "image/png": "[encoded data removed]",
      "text/plain": [
       "<matplotlib.figure.Figure at 0x24108c9e470>"
      ]
     },
     "metadata": {},
     "output_type": "display_data"
    }
   ],
   "source": [
    "#Time series variables\n",
    "\n",
    "#Since there are signup_date, last_trip_date as datetime, we can use these as index\n",
    "#construct a new df to do experiment on the time-series\n",
    "uber_time = uber[['last_trip_date','signup_date']].copy()\n",
    "uber_time['count'] = 1\n",
    "#print(uber_time)\n",
    "#use signup_date as index, then check the relationship with last_trip_time\n",
    "uber_time = uber_time.set_index('signup_date')\n",
    "print(uber_time.head())\n",
    "#now order it by date\n",
    "print(uber_time['count'].resample('1D').sum().head())\n",
    "uber_time['count'].resample('1D').sum().plot()\n",
    "plt.xlabel('Signup_date')\n",
    "plt.ylabel('The number of register')\n",
    "plt.title('The number of registers for different signup_date')\n",
    "#get the day of week\n",
    "#pd.to_datetime('2014-06-20').dayofweek"
   ]
  },
  {
   "cell_type": "markdown",
   "metadata": {},
   "source": [
    "We can find from the plot, there is obvious pattern of signup numbers. The intervals between\n",
    "each peaks are almost 7 days, checking the calander, we find those peak dates are almost all Saturdays, while\n",
    "the vellys are between Monday to Wednesday. It seems reasonable, because people will routinely commute through \n",
    "specific transportations like train/subway during weekdays, they are more likely take Uber during Weekends when they need to \n",
    "go out."
   ]
  },
  {
   "cell_type": "code",
   "execution_count": 6,
   "metadata": {},
   "outputs": [
    {
     "data": {
      "text/plain": [
       "\"\\nwe can find the higher probability of last_trip happens either within one month, or around 6 months for customers.\\nSince we only focus on records of Jan-signup-customer, these patterns means many customers didn't take Uber any \\nmore within one month after they signed up. And there is an increase in June of last trip, that means plenty of people\\nstill usin Uber, and they might continue using after June(after the data we recorded)\\n\""
      ]
     },
     "execution_count": 6,
     "metadata": {},
     "output_type": "execute_result"
    },
    {
     "data": {
      "image/png": "[encoded data removed]",
      "text/plain": [
       "<matplotlib.figure.Figure at 0x25ba2513080>"
      ]
     },
     "metadata": {},
     "output_type": "display_data"
    }
   ],
   "source": [
    "#we can also use last_trip_date as index, to check the population distribution of final trip  \n",
    "uber_time = uber_time.set_index('last_trip_date')\n",
    "uber_time['count'].resample('1D').sum().plot()\n",
    "#print(uber_time[\"count\"].resample(\"1D\").sum())\n",
    "plt.xlabel('Last_trip_date')\n",
    "plt.ylabel('The number of registers')\n",
    "plt.title('The number of registers for different last_trip_date')"
   ]
  },
  {
   "cell_type": "markdown",
   "metadata": {},
   "source": [
    "we can find the higher probability of last_trip happens either within one month, or around 6 months for customers.\n",
    "Since we only focus on records of Jan-signup-customer, these patterns means many customers didn't take Uber any \n",
    "more within one month after they signed up. And there is an increase in June of last trip, that means plenty of people\n",
    "still usin Uber, and they might continue using after June(after the data we recorded)"
   ]
  },
  {
   "cell_type": "code",
   "execution_count": 79,
   "metadata": {},
   "outputs": [
    {
     "data": {
      "text/html": [
       "<div>\n",
       "<style>\n",
       "    .dataframe thead tr:only-child th {\n",
       "        text-align: right;\n",
       "    }\n",
       "\n",
       "    .dataframe thead th {\n",
       "        text-align: left;\n",
       "    }\n",
       "\n",
       "    .dataframe tbody tr th {\n",
       "        vertical-align: top;\n",
       "    }\n",
       "</style>\n",
       "<table border=\"1\" class=\"dataframe\">\n",
       "  <thead>\n",
       "    <tr style=\"text-align: right;\">\n",
       "      <th></th>\n",
       "      <th>avg_dist</th>\n",
       "      <th>avg_rating_by_driver</th>\n",
       "      <th>avg_rating_of_driver</th>\n",
       "      <th>avg_surge</th>\n",
       "      <th>city</th>\n",
       "      <th>last_trip_date</th>\n",
       "      <th>phone</th>\n",
       "      <th>signup_date</th>\n",
       "      <th>surge_pct</th>\n",
       "      <th>trips_in_first_30_days</th>\n",
       "      <th>luxury_car_user</th>\n",
       "      <th>weekday_pct</th>\n",
       "      <th>signup_dow</th>\n",
       "    </tr>\n",
       "  </thead>\n",
       "  <tbody>\n",
       "    <tr>\n",
       "      <th>0</th>\n",
       "      <td>3.67</td>\n",
       "      <td>5.0</td>\n",
       "      <td>4.7</td>\n",
       "      <td>1.10</td>\n",
       "      <td>King's Landing</td>\n",
       "      <td>2014-06-17</td>\n",
       "      <td>iPhone</td>\n",
       "      <td>2014-01-25</td>\n",
       "      <td>15.4</td>\n",
       "      <td>4</td>\n",
       "      <td>True</td>\n",
       "      <td>46.2</td>\n",
       "      <td>5</td>\n",
       "    </tr>\n",
       "    <tr>\n",
       "      <th>1</th>\n",
       "      <td>8.26</td>\n",
       "      <td>5.0</td>\n",
       "      <td>5.0</td>\n",
       "      <td>1.00</td>\n",
       "      <td>Astapor</td>\n",
       "      <td>2014-05-05</td>\n",
       "      <td>Android</td>\n",
       "      <td>2014-01-29</td>\n",
       "      <td>0.0</td>\n",
       "      <td>0</td>\n",
       "      <td>False</td>\n",
       "      <td>50.0</td>\n",
       "      <td>2</td>\n",
       "    </tr>\n",
       "    <tr>\n",
       "      <th>2</th>\n",
       "      <td>0.77</td>\n",
       "      <td>5.0</td>\n",
       "      <td>4.3</td>\n",
       "      <td>1.00</td>\n",
       "      <td>Astapor</td>\n",
       "      <td>2014-01-07</td>\n",
       "      <td>iPhone</td>\n",
       "      <td>2014-01-06</td>\n",
       "      <td>0.0</td>\n",
       "      <td>3</td>\n",
       "      <td>False</td>\n",
       "      <td>100.0</td>\n",
       "      <td>0</td>\n",
       "    </tr>\n",
       "    <tr>\n",
       "      <th>3</th>\n",
       "      <td>2.36</td>\n",
       "      <td>4.9</td>\n",
       "      <td>4.6</td>\n",
       "      <td>1.14</td>\n",
       "      <td>King's Landing</td>\n",
       "      <td>2014-06-29</td>\n",
       "      <td>iPhone</td>\n",
       "      <td>2014-01-10</td>\n",
       "      <td>20.0</td>\n",
       "      <td>9</td>\n",
       "      <td>True</td>\n",
       "      <td>80.0</td>\n",
       "      <td>4</td>\n",
       "    </tr>\n",
       "    <tr>\n",
       "      <th>4</th>\n",
       "      <td>3.13</td>\n",
       "      <td>4.9</td>\n",
       "      <td>4.4</td>\n",
       "      <td>1.19</td>\n",
       "      <td>Winterfell</td>\n",
       "      <td>2014-03-15</td>\n",
       "      <td>Android</td>\n",
       "      <td>2014-01-27</td>\n",
       "      <td>11.8</td>\n",
       "      <td>14</td>\n",
       "      <td>False</td>\n",
       "      <td>82.4</td>\n",
       "      <td>0</td>\n",
       "    </tr>\n",
       "  </tbody>\n",
       "</table>\n",
       "</div>"
      ],
      "text/plain": [
       "   avg_dist  avg_rating_by_driver  avg_rating_of_driver  avg_surge  \\\n",
       "0      3.67                   5.0                   4.7       1.10   \n",
       "1      8.26                   5.0                   5.0       1.00   \n",
       "2      0.77                   5.0                   4.3       1.00   \n",
       "3      2.36                   4.9                   4.6       1.14   \n",
       "4      3.13                   4.9                   4.4       1.19   \n",
       "\n",
       "             city last_trip_date    phone signup_date  surge_pct  \\\n",
       "0  King's Landing     2014-06-17   iPhone  2014-01-25       15.4   \n",
       "1         Astapor     2014-05-05  Android  2014-01-29        0.0   \n",
       "2         Astapor     2014-01-07   iPhone  2014-01-06        0.0   \n",
       "3  King's Landing     2014-06-29   iPhone  2014-01-10       20.0   \n",
       "4      Winterfell     2014-03-15  Android  2014-01-27       11.8   \n",
       "\n",
       "   trips_in_first_30_days  luxury_car_user  weekday_pct  signup_dow  \n",
       "0                       4             True         46.2           5  \n",
       "1                       0            False         50.0           2  \n",
       "2                       3            False        100.0           0  \n",
       "3                       9             True         80.0           4  \n",
       "4                      14            False         82.4           0  "
      ]
     },
     "execution_count": 79,
     "metadata": {},
     "output_type": "execute_result"
    }
   ],
   "source": [
    "#create a new variable for day of week for signup_date\n",
    "#but .dayofweek is for a single string, so use apply\n",
    "uber_fillna['signup_dow'] = uber_fillna['signup_date'].apply(lambda x: x.dayofweek)\n",
    "uber_fillna.head()"
   ]
  },
  {
   "cell_type": "markdown",
   "metadata": {},
   "source": [
    "Then, we can segment data by other variables, like city, phone type, luxury car type\n"
   ]
  },
  {
   "cell_type": "code",
   "execution_count": 6,
   "metadata": {},
   "outputs": [
    {
     "name": "stdout",
     "output_type": "stream",
     "text": [
      "Groupby_dow\n",
      "            avg_dist  avg_rating_by_driver  avg_rating_of_driver  avg_surge  \\\n",
      "signup_dow                                                                    \n",
      "0           6.008795              4.784166              4.650533   1.064900   \n",
      "1           5.977492              4.774180              4.657533   1.060316   \n",
      "2           6.236379              4.787694              4.655144   1.065973   \n",
      "3           6.105506              4.785328              4.652210   1.066157   \n",
      "4           5.519604              4.770462              4.649053   1.080023   \n",
      "5           5.268069              4.779516              4.640062   1.091406   \n",
      "6           5.906819              4.775238              4.652581   1.079780   \n",
      "\n",
      "            surge_pct  trips_in_first_30_days  luxury_car_user  weekday_pct  \n",
      "signup_dow                                                                   \n",
      "0            7.654277                2.573648         0.374883    71.556878  \n",
      "1            7.163349                2.520297         0.389149    72.454411  \n",
      "2            7.670514                2.066986         0.389504    69.400942  \n",
      "3            7.856818                2.247228         0.376962    70.703024  \n",
      "4            9.338302                2.297737         0.380567    61.248828  \n",
      "5           11.128014                2.159053         0.368519    41.591368  \n",
      "6            9.299470                2.243256         0.364104    52.245127  \n",
      "Groupby_city\n",
      "                avg_dist  avg_rating_by_driver  avg_rating_of_driver  \\\n",
      "city                                                                   \n",
      "Astapor         5.427940              4.799558              4.677634   \n",
      "King's Landing  5.976596              4.853741              4.731441   \n",
      "Winterfell      5.980153              4.732096              4.595149   \n",
      "\n",
      "                avg_surge  surge_pct  trips_in_first_30_days  luxury_car_user  \\\n",
      "city                                                                            \n",
      "Astapor          1.086522  10.140305                1.948651         0.391738   \n",
      "King's Landing   1.070707   9.966979                2.463672         0.415202   \n",
      "Winterfell       1.068194   7.449927                2.431179         0.350146   \n",
      "\n",
      "                weekday_pct  signup_dow  \n",
      "city                                     \n",
      "Astapor           60.370050    3.352546  \n",
      "King's Landing    63.232290    3.319842  \n",
      "Winterfell        60.318936    3.274769  \n",
      "Groupby_phone\n",
      "          avg_dist  avg_rating_by_driver  avg_rating_of_driver  avg_surge  \\\n",
      "phone                                                                       \n",
      "Android   5.978743              4.785035              4.679803   1.071718   \n",
      "iPhone    5.701441              4.776016              4.636724   1.076412   \n",
      "no_phone  7.225859              4.816919              4.683586   1.046338   \n",
      "\n",
      "          surge_pct  trips_in_first_30_days  luxury_car_user  weekday_pct  \\\n",
      "phone                                                                       \n",
      "Android    8.540401                1.934962         0.320996    60.403202   \n",
      "iPhone     9.020797                2.425944         0.398762    61.092612   \n",
      "no_phone   5.620455                2.396465         0.611111    66.218687   \n",
      "\n",
      "          signup_dow  \n",
      "phone                 \n",
      "Android     3.336440  \n",
      "iPhone      3.298826  \n",
      "no_phone    3.234848  \n"
     ]
    },
    {
     "data": {
      "text/plain": [
       "\"\\nFor different signup_dow, there seems not so much difference between each values, only the surge_pct is extremely higher in Saturday\\nWhile...from the numbers it's really hard to tell the difference, let do some visualization\\n\""
      ]
     },
     "execution_count": 6,
     "metadata": {},
     "output_type": "execute_result"
    }
   ],
   "source": [
    "\n",
    "#check how measurements vary in different dow\n",
    "dow_info = uber_fillna.groupby('signup_dow')\n",
    "print(\"Groupby_dow\")\n",
    "print(dow_info.mean())\n",
    "#check how measurements vary in different city\n",
    "city_info = uber_fillna.groupby('city')\n",
    "#city_info.apply(lambda x: x.astype('float64'))\n",
    "print(\"Groupby_city\")\n",
    "print(city_info.mean())\n",
    "#check how measurements vary in different phone type\n",
    "print('Groupby_phone')\n",
    "print(uber_fillna.groupby('phone').mean())\n"
   ]
  },
  {
   "cell_type": "markdown",
   "metadata": {},
   "source": [
    "For different signup_dow, there seems not so much difference between each values, only the surge_pct is extremely higher in Saturday\n",
    "While...from the numbers it's really hard to tell the difference, let do some visualization"
   ]
  },
  {
   "cell_type": "markdown",
   "metadata": {
    "collapsed": true
   },
   "source": [
    "##### plot based on grouped result"
   ]
  },
  {
   "cell_type": "code",
   "execution_count": null,
   "metadata": {},
   "outputs": [
    {
     "data": {
      "text/plain": [
       "city\n",
       "Astapor           Axes(0.125,0.125;0.775x0.755)\n",
       "King's Landing    Axes(0.125,0.125;0.775x0.755)\n",
       "Winterfell        Axes(0.125,0.125;0.775x0.755)\n",
       "dtype: object"
      ]
     },
     "execution_count": 9,
     "metadata": {},
     "output_type": "execute_result"
    }
   ],
   "source": [
    "#plot them\n",
    "# fig, ax = plt.subplots()\n",
    "# index = ['Astapor', \"King's Landing\", 'Winterfell']\n",
    "# bar_width = 0.85\n",
    "# rects1 = plt.bar(index, city_info, bar_width,\n",
    "#                  color='b')\n",
    "\n",
    "'''\n",
    "DataFrameGroupBy.plot(data, x=None, y=None, kind='line', ax=None, \n",
    "subplots=False, sharex=None, sharey=False, layout=None, figsize=None, \n",
    "use_index=True, title=None, grid=None, legend=True, style=None, \n",
    "logx=False, logy=False, loglog=False, xticks=None, yticks=None, \n",
    "xlim=None, ylim=None, rot=None, fontsize=None, colormap=None, \n",
    "table=False, yerr=None, xerr=None, secondary_y=False, sort_columns=False, **kwds)\n",
    "'''\n",
    "city_info[[\"avg_dist\", \"avg_rating_by_driver\", \"avg_rating_of_driver\"]].plot(kind = 'bar')"
   ]
  },
  {
   "cell_type": "code",
   "execution_count": 111,
   "metadata": {},
   "outputs": [
    {
     "data": {
      "text/plain": [
       "Index(['Astapor', 'King's Landing', 'Winterfell'], dtype='object', name='city')"
      ]
     },
     "execution_count": 111,
     "metadata": {},
     "output_type": "execute_result"
    }
   ],
   "source": [
    "city_info.index"
   ]
  },
  {
   "cell_type": "code",
   "execution_count": 101,
   "metadata": {
    "scrolled": true
   },
   "outputs": [
    {
     "name": "stdout",
     "output_type": "stream",
     "text": [
      "<class 'pandas.core.frame.DataFrame'>\n",
      "RangeIndex: 50000 entries, 0 to 49999\n",
      "Data columns (total 13 columns):\n",
      "avg_dist                  50000 non-null float64\n",
      "avg_rating_by_driver      50000 non-null float64\n",
      "avg_rating_of_driver      50000 non-null float64\n",
      "avg_surge                 50000 non-null float64\n",
      "city                      50000 non-null object\n",
      "last_trip_date            50000 non-null datetime64[ns]\n",
      "phone                     50000 non-null object\n",
      "signup_date               50000 non-null datetime64[ns]\n",
      "surge_pct                 50000 non-null float64\n",
      "trips_in_first_30_days    50000 non-null int64\n",
      "luxury_car_user           50000 non-null bool\n",
      "weekday_pct               50000 non-null float64\n",
      "signup_dow                50000 non-null int64\n",
      "dtypes: bool(1), datetime64[ns](2), float64(6), int64(2), object(2)\n",
      "memory usage: 4.6+ MB\n"
     ]
    }
   ],
   "source": [
    "#converting categorical variables(city, phone, luxury_car_user, signup_dow)\n",
    "uber_fillna.info()"
   ]
  },
  {
   "cell_type": "code",
   "execution_count": 7,
   "metadata": {},
   "outputs": [
    {
     "data": {
      "text/html": [
       "<div>\n",
       "<style>\n",
       "    .dataframe thead tr:only-child th {\n",
       "        text-align: right;\n",
       "    }\n",
       "\n",
       "    .dataframe thead th {\n",
       "        text-align: left;\n",
       "    }\n",
       "\n",
       "    .dataframe tbody tr th {\n",
       "        vertical-align: top;\n",
       "    }\n",
       "</style>\n",
       "<table border=\"1\" class=\"dataframe\">\n",
       "  <thead>\n",
       "    <tr style=\"text-align: right;\">\n",
       "      <th></th>\n",
       "      <th>avg_dist</th>\n",
       "      <th>avg_rating_by_driver</th>\n",
       "      <th>avg_rating_of_driver</th>\n",
       "      <th>avg_surge</th>\n",
       "      <th>city</th>\n",
       "      <th>last_trip_date</th>\n",
       "      <th>phone</th>\n",
       "      <th>signup_date</th>\n",
       "      <th>surge_pct</th>\n",
       "      <th>trips_in_first_30_days</th>\n",
       "      <th>luxury_car_user</th>\n",
       "      <th>weekday_pct</th>\n",
       "      <th>signup_dow</th>\n",
       "    </tr>\n",
       "  </thead>\n",
       "  <tbody>\n",
       "    <tr>\n",
       "      <th>0</th>\n",
       "      <td>3.67</td>\n",
       "      <td>5.0</td>\n",
       "      <td>4.7</td>\n",
       "      <td>1.10</td>\n",
       "      <td>King's Landing</td>\n",
       "      <td>2014-06-17</td>\n",
       "      <td>iPhone</td>\n",
       "      <td>2014-01-25</td>\n",
       "      <td>15.4</td>\n",
       "      <td>4</td>\n",
       "      <td>1</td>\n",
       "      <td>46.2</td>\n",
       "      <td>5</td>\n",
       "    </tr>\n",
       "    <tr>\n",
       "      <th>1</th>\n",
       "      <td>8.26</td>\n",
       "      <td>5.0</td>\n",
       "      <td>5.0</td>\n",
       "      <td>1.00</td>\n",
       "      <td>Astapor</td>\n",
       "      <td>2014-05-05</td>\n",
       "      <td>Android</td>\n",
       "      <td>2014-01-29</td>\n",
       "      <td>0.0</td>\n",
       "      <td>0</td>\n",
       "      <td>0</td>\n",
       "      <td>50.0</td>\n",
       "      <td>2</td>\n",
       "    </tr>\n",
       "    <tr>\n",
       "      <th>2</th>\n",
       "      <td>0.77</td>\n",
       "      <td>5.0</td>\n",
       "      <td>4.3</td>\n",
       "      <td>1.00</td>\n",
       "      <td>Astapor</td>\n",
       "      <td>2014-01-07</td>\n",
       "      <td>iPhone</td>\n",
       "      <td>2014-01-06</td>\n",
       "      <td>0.0</td>\n",
       "      <td>3</td>\n",
       "      <td>0</td>\n",
       "      <td>100.0</td>\n",
       "      <td>0</td>\n",
       "    </tr>\n",
       "    <tr>\n",
       "      <th>3</th>\n",
       "      <td>2.36</td>\n",
       "      <td>4.9</td>\n",
       "      <td>4.6</td>\n",
       "      <td>1.14</td>\n",
       "      <td>King's Landing</td>\n",
       "      <td>2014-06-29</td>\n",
       "      <td>iPhone</td>\n",
       "      <td>2014-01-10</td>\n",
       "      <td>20.0</td>\n",
       "      <td>9</td>\n",
       "      <td>1</td>\n",
       "      <td>80.0</td>\n",
       "      <td>4</td>\n",
       "    </tr>\n",
       "    <tr>\n",
       "      <th>4</th>\n",
       "      <td>3.13</td>\n",
       "      <td>4.9</td>\n",
       "      <td>4.4</td>\n",
       "      <td>1.19</td>\n",
       "      <td>Winterfell</td>\n",
       "      <td>2014-03-15</td>\n",
       "      <td>Android</td>\n",
       "      <td>2014-01-27</td>\n",
       "      <td>11.8</td>\n",
       "      <td>14</td>\n",
       "      <td>0</td>\n",
       "      <td>82.4</td>\n",
       "      <td>0</td>\n",
       "    </tr>\n",
       "  </tbody>\n",
       "</table>\n",
       "</div>"
      ],
      "text/plain": [
       "   avg_dist  avg_rating_by_driver  avg_rating_of_driver  avg_surge  \\\n",
       "0      3.67                   5.0                   4.7       1.10   \n",
       "1      8.26                   5.0                   5.0       1.00   \n",
       "2      0.77                   5.0                   4.3       1.00   \n",
       "3      2.36                   4.9                   4.6       1.14   \n",
       "4      3.13                   4.9                   4.4       1.19   \n",
       "\n",
       "             city last_trip_date    phone signup_date  surge_pct  \\\n",
       "0  King's Landing     2014-06-17   iPhone  2014-01-25       15.4   \n",
       "1         Astapor     2014-05-05  Android  2014-01-29        0.0   \n",
       "2         Astapor     2014-01-07   iPhone  2014-01-06        0.0   \n",
       "3  King's Landing     2014-06-29   iPhone  2014-01-10       20.0   \n",
       "4      Winterfell     2014-03-15  Android  2014-01-27       11.8   \n",
       "\n",
       "   trips_in_first_30_days  luxury_car_user  weekday_pct  signup_dow  \n",
       "0                       4                1         46.2           5  \n",
       "1                       0                0         50.0           2  \n",
       "2                       3                0        100.0           0  \n",
       "3                       9                1         80.0           4  \n",
       "4                      14                0         82.4           0  "
      ]
     },
     "execution_count": 7,
     "metadata": {},
     "output_type": "execute_result"
    }
   ],
   "source": [
    "#change boolean into num\n",
    "uber_fillna['luxury_car_user'] = uber_fillna['luxury_car_user'].astype(int)\n",
    "uber_fillna.head()"
   ]
  },
  {
   "cell_type": "code",
   "execution_count": 49,
   "metadata": {},
   "outputs": [
    {
     "name": "stdout",
     "output_type": "stream",
     "text": [
      "   signup_dow_0  signup_dow_1  signup_dow_2  signup_dow_3  signup_dow_4  \\\n",
      "0             0             0             0             0             0   \n",
      "1             0             0             1             0             0   \n",
      "2             1             0             0             0             0   \n",
      "3             0             0             0             0             1   \n",
      "4             1             0             0             0             0   \n",
      "\n",
      "   signup_dow_5  signup_dow_6  city_Astapor  city_King's Landing  \\\n",
      "0             1             0             0                    1   \n",
      "1             0             0             1                    0   \n",
      "2             0             0             1                    0   \n",
      "3             0             0             0                    1   \n",
      "4             0             0             0                    0   \n",
      "\n",
      "   city_Winterfell  phone_Android  phone_iPhone  phone_no_phone  \n",
      "0                0              0             1               0  \n",
      "1                0              1             0               0  \n",
      "2                0              0             1               0  \n",
      "3                0              0             1               0  \n",
      "4                1              1             0               0  \n",
      "   avg_dist  avg_rating_by_driver  avg_rating_of_driver  avg_surge  \\\n",
      "0      3.67                   5.0                   4.7       1.10   \n",
      "1      8.26                   5.0                   5.0       1.00   \n",
      "2      0.77                   5.0                   4.3       1.00   \n",
      "3      2.36                   4.9                   4.6       1.14   \n",
      "4      3.13                   4.9                   4.4       1.19   \n",
      "\n",
      "             city last_trip_date    phone signup_date  surge_pct  \\\n",
      "0  King's Landing     2014-06-17   iPhone  2014-01-25       15.4   \n",
      "1         Astapor     2014-05-05  Android  2014-01-29        0.0   \n",
      "2         Astapor     2014-01-07   iPhone  2014-01-06        0.0   \n",
      "3  King's Landing     2014-06-29   iPhone  2014-01-10       20.0   \n",
      "4      Winterfell     2014-03-15  Android  2014-01-27       11.8   \n",
      "\n",
      "   trips_in_first_30_days       ...        signup_dow_3  signup_dow_4  \\\n",
      "0                       4       ...                   0             0   \n",
      "1                       0       ...                   0             0   \n",
      "2                       3       ...                   0             0   \n",
      "3                       9       ...                   0             1   \n",
      "4                      14       ...                   0             0   \n",
      "\n",
      "   signup_dow_5  signup_dow_6  city_Astapor  city_King's Landing  \\\n",
      "0             1             0             0                    1   \n",
      "1             0             0             1                    0   \n",
      "2             0             0             1                    0   \n",
      "3             0             0             0                    1   \n",
      "4             0             0             0                    0   \n",
      "\n",
      "   city_Winterfell  phone_Android  phone_iPhone  phone_no_phone  \n",
      "0                0              0             1               0  \n",
      "1                0              1             0               0  \n",
      "2                0              0             1               0  \n",
      "3                0              0             1               0  \n",
      "4                1              1             0               0  \n",
      "\n",
      "[5 rows x 28 columns]\n",
      "Index(['avg_dist', 'avg_rating_by_driver', 'avg_rating_of_driver', 'avg_surge',\n",
      "       'city', 'last_trip_date', 'phone', 'signup_date', 'surge_pct',\n",
      "       'trips_in_first_30_days', 'luxury_car_user', 'weekday_pct',\n",
      "       'signup_dow', 'churn', 'active', 'signup_dow_0', 'signup_dow_1',\n",
      "       'signup_dow_2', 'signup_dow_3', 'signup_dow_4', 'signup_dow_5',\n",
      "       'signup_dow_6', 'city_Astapor', 'city_King's Landing',\n",
      "       'city_Winterfell', 'phone_Android', 'phone_iPhone', 'phone_no_phone'],\n",
      "      dtype='object')\n"
     ]
    }
   ],
   "source": [
    "#change categorical variables into dummy variables(since either the number of their values are no more than\n",
    "#10, so it is OK to apply one-hot coding skills, but for categorical variables which contains many values,\n",
    "#using one-hot coding isn't a wise way)\n",
    "col_category = ['signup_dow', 'city', 'phone']\n",
    "uber_dummy = pd.get_dummies(uber_fillna[col_category], columns = col_category)\n",
    "print(uber_dummy.head())\n",
    "uber_fillna_dummy = uber_fillna.join(uber_dummy)\n",
    "print(uber_fillna_dummy.head())\n",
    "print(uber_fillna_dummy.columns)"
   ]
  },
  {
   "cell_type": "code",
   "execution_count": 56,
   "metadata": {},
   "outputs": [],
   "source": [
    "#save the cleaned data to csv file\n",
    "selected_cols = ['avg_dist', 'avg_rating_by_driver', 'avg_rating_of_driver', 'avg_surge',\n",
    "       'last_trip_date', 'signup_date', 'surge_pct',\n",
    "       'trips_in_first_30_days', 'luxury_car_user', 'weekday_pct',\n",
    "       'churn', 'signup_dow_0', 'signup_dow_1',\n",
    "       'signup_dow_2', 'signup_dow_3', 'signup_dow_4', 'signup_dow_5',\n",
    "       'signup_dow_6', 'city_Astapor', \"city_King's Landing\",\n",
    "       'city_Winterfell', 'phone_Android', 'phone_iPhone', 'phone_no_phone']\n",
    "uber_fillna_dummy = uber_fillna_dummy[selected_cols]\n",
    "uber_fillna_dummy.head()\n",
    "cleaned_uber = 'cleaned_uber.csv'\n",
    "uber_fillna_dummy.to_csv(cleaned_uber, index = False)"
   ]
  },
  {
   "cell_type": "markdown",
   "metadata": {},
   "source": [
    "## Setting Churn/Active Label"
   ]
  },
  {
   "cell_type": "markdown",
   "metadata": {},
   "source": [
    "After cleaning, imputing and simply explore Uber Rider features, we can go to next stage \n",
    "Since our task is to analyze and then predict the churn rate of Uber Rider, the only infomation\n",
    "we have about churn is the last_trip_date. So how to decide whether the rider is churn or not\n",
    "depends on our business sense and some research analysis.\n",
    "Since our time interval is around 6 months(from Jan to July), we first assume that if one user \n",
    "didn't use Uber after June is Churn, and users still use Uber in June are Active."
   ]
  },
  {
   "cell_type": "code",
   "execution_count": 8,
   "metadata": {},
   "outputs": [
    {
     "name": "stdout",
     "output_type": "stream",
     "text": [
      "   avg_dist  avg_rating_by_driver  avg_rating_of_driver  avg_surge  \\\n",
      "0      3.67                   5.0                   4.7       1.10   \n",
      "1      8.26                   5.0                   5.0       1.00   \n",
      "2      0.77                   5.0                   4.3       1.00   \n",
      "3      2.36                   4.9                   4.6       1.14   \n",
      "4      3.13                   4.9                   4.4       1.19   \n",
      "\n",
      "             city last_trip_date    phone signup_date  surge_pct  \\\n",
      "0  King's Landing     2014-06-17   iPhone  2014-01-25       15.4   \n",
      "1         Astapor     2014-05-05  Android  2014-01-29        0.0   \n",
      "2         Astapor     2014-01-07   iPhone  2014-01-06        0.0   \n",
      "3  King's Landing     2014-06-29   iPhone  2014-01-10       20.0   \n",
      "4      Winterfell     2014-03-15  Android  2014-01-27       11.8   \n",
      "\n",
      "   trips_in_first_30_days  luxury_car_user  weekday_pct  signup_dow  churn  \\\n",
      "0                       4                1         46.2           5      0   \n",
      "1                       0                0         50.0           2      1   \n",
      "2                       3                0        100.0           0      1   \n",
      "3                       9                1         80.0           4      0   \n",
      "4                      14                0         82.4           0      1   \n",
      "\n",
      "   active  \n",
      "0       1  \n",
      "1       0  \n",
      "2       0  \n",
      "3       1  \n",
      "4       0  \n",
      "Churn Rate: 0.62392\n",
      "Active Rate: 0.37608\n"
     ]
    }
   ],
   "source": [
    "uber_fillna['churn'] = (uber_fillna.last_trip_date < pd.to_datetime('2014-06-01'))*1\n",
    "uber_fillna['active'] = (uber_fillna.last_trip_date >= pd.to_datetime('2014-06-01'))*1\n",
    "print(uber_fillna.head())\n",
    "print('Churn Rate:', uber_fillna['churn'].mean())\n",
    "print('Active Rate:', uber_fillna['active'].mean())\n",
    "#as we can see, more than 60% riders didn't use Uber after June, next explore \n",
    "#the relationship between churn and those features"
   ]
  },
  {
   "cell_type": "code",
   "execution_count": 56,
   "metadata": {},
   "outputs": [
    {
     "data": {
      "text/plain": [
       "<matplotlib.text.Text at 0x20b308577f0>"
      ]
     },
     "execution_count": 56,
     "metadata": {},
     "output_type": "execute_result"
    },
    {
     "data": {
      "image/png": "[encoded data removed]",
      "text/plain": [
       "<matplotlib.figure.Figure at 0x20b309dbfd0>"
      ]
     },
     "metadata": {},
     "output_type": "display_data"
    }
   ],
   "source": [
    "uber_category = ['city', 'phone', 'trips_in_first_30_days', 'luxury_car_user']\n",
    "fig=plt.figure()\n",
    "ax = fig.add_subplot(111)\n",
    "ax2 = ax.twinx()\n",
    "ax3 = ax.\n",
    "uber_fillna['city'].value_counts().plot.bar(color = color[3], ax = ax3, width=0.3, alpha = 0.7, position = 2)\n",
    "uber_fillna[['city', 'churn']].groupby(['city']).mean().plot.bar(color = color[1], ax = ax, width=0.3, alpha = 0.7, position = 1)\n",
    "uber_fillna[['city', 'active']].groupby(['city']).mean().plot.bar(color = color[2], ax= ax2, width = 0.3, alpha = 0.7, position = 0)\n",
    "plt.ylabel(\"Churn/Active Rate\")\n",
    "plt.title(\"Churn/Active Rate for different Cities\")\n"
   ]
  },
  {
   "cell_type": "code",
   "execution_count": 43,
   "metadata": {},
   "outputs": [
    {
     "data": {
      "text/plain": [
       "<matplotlib.text.Text at 0x20b2d8805c0>"
      ]
     },
     "execution_count": 43,
     "metadata": {},
     "output_type": "execute_result"
    },
    {
     "data": {
      "image/png": "[encoded data removed]",
      "text/plain": [
       "<matplotlib.figure.Figure at 0x20b2d788c88>"
      ]
     },
     "metadata": {},
     "output_type": "display_data"
    }
   ],
   "source": [
    "fig=plt.figure()\n",
    "ax = fig.add_subplot(111)\n",
    "ax2 = ax.twinx()\n",
    "uber_fillna[['phone', 'churn']].groupby(['phone']).mean().plot.bar(color = color[1], ax = ax, width=0.3, alpha = 0.7, position = 1)\n",
    "uber_fillna[['phone', 'active']].groupby(['phone']).mean().plot.bar(color = color[2], ax= ax2, width = 0.3, alpha = 0.7, position = 0)\n",
    "plt.ylabel(\"Churn/Active Rate\")\n",
    "plt.title(\"Churn/Active Rate for different phone type\")\n",
    "#Android user are much more likely be churn than IPhone user, which indicates there might be something\n",
    "#not that satisfied for Android user. Uber need to improve their performance in Android system"
   ]
  },
  {
   "cell_type": "code",
   "execution_count": 42,
   "metadata": {},
   "outputs": [
    {
     "data": {
      "text/plain": [
       "<matplotlib.text.Text at 0x20b2d74b240>"
      ]
     },
     "execution_count": 42,
     "metadata": {},
     "output_type": "execute_result"
    },
    {
     "data": {
      "image/png": "[encoded data removed]",
      "text/plain": [
       "<matplotlib.figure.Figure at 0x20b2d678fd0>"
      ]
     },
     "metadata": {},
     "output_type": "display_data"
    }
   ],
   "source": [
    "fig=plt.figure()\n",
    "ax = fig.add_subplot(111)\n",
    "ax2 = ax.twinx()\n",
    "uber_fillna[['luxury_car_user', 'churn']].groupby(['luxury_car_user']).mean().plot.bar(color = color[1], ax = ax, width=0.3, alpha = 0.7, position = 1)\n",
    "uber_fillna[['luxury_car_user', 'active']].groupby(['luxury_car_user']).mean().plot.bar(color = color[2], ax= ax2, width = 0.3, alpha = 0.7, position = 0)\n",
    "plt.ylabel(\"Churn/Active Rate\")\n",
    "plt.title(\"Churn/Active Rate for different car type\")\n",
    "#we can find rider who prefer luxury car are less likely be churn"
   ]
  },
  {
   "cell_type": "code",
   "execution_count": 47,
   "metadata": {},
   "outputs": [
    {
     "data": {
      "text/plain": [
       "<matplotlib.text.Text at 0x20b2df9fba8>"
      ]
     },
     "execution_count": 47,
     "metadata": {},
     "output_type": "execute_result"
    },
    {
     "data": {
      "image/png": "[encoded data removed]",
      "text/plain": [
       "<matplotlib.figure.Figure at 0x20b2df3e588>"
      ]
     },
     "metadata": {},
     "output_type": "display_data"
    }
   ],
   "source": [
    "uber_fillna[['trips_in_first_30_days', 'churn']].groupby(['churn']).mean().plot.bar(width=0.3, alpha = 0.7)\n",
    "\n",
    "plt.ylabel(\"Average trips taken in first 30 days\")\n",
    "plt.title(\"Churn/Active Rate for different times of rider within first 30 days\")\n",
    "#we can tell that riders who use Uber within first 30 days are much less likely be churn\n",
    "#after 6 month"
   ]
  },
  {
   "cell_type": "code",
   "execution_count": 9,
   "metadata": {
    "collapsed": true
   },
   "outputs": [],
   "source": [
    "is_churn = uber_fillna['churn'] == 1"
   ]
  },
  {
   "cell_type": "code",
   "execution_count": 41,
   "metadata": {},
   "outputs": [
    {
     "data": {
      "image/png": "[encoded data removed]",
      "text/plain": [
       "<matplotlib.figure.Figure at 0x2430f38f198>"
      ]
     },
     "metadata": {},
     "output_type": "display_data"
    }
   ],
   "source": [
    "#find the relationship between churn/active and avg_distance\n",
    "fig, ax = plt.subplots()\n",
    "plt.style.use('seaborn-deep')\n",
    "#act = uber_fillna[is_active]['avg_dist'].values\n",
    "#ax[1].hist(uber_fillna[~is_active]['avg_dist'].values)\n",
    "plt.hist([uber_fillna[is_churn]['avg_dist'].values, uber_fillna[~is_churn]['avg_dist'].values],\n",
    "         color = [color[5], color[3]], alpha = 0.7, bins = 100, width = 0.5, label = ['churn', 'active'])\n",
    "plt.xlabel(\"average distance per ride\")\n",
    "#there are some outliers need to be dropped, so in this time, set the x axis limit as 80%\n",
    "plt.xlim([0, 50])\n",
    "plt.ylabel(\"frequency\")\n",
    "plt.title(\"Histogram of Churn rate based on average ride distance\")\n",
    "plt.legend(loc = \"upper right\")\n",
    "plt.show()"
   ]
  },
  {
   "cell_type": "code",
   "execution_count": 46,
   "metadata": {},
   "outputs": [],
   "source": [
    "#plot other variables\n",
    "def hist_active_churn(df, col_name):\n",
    "    is_churn = df['churn'] ==1\n",
    "    fig, ax = plt.subplots()\n",
    "    #act = uber_fillna[is_active]['avg_dist'].values\n",
    "    #ax[1].hist(uber_fillna[~is_active]['avg_dist'].values)\n",
    "    plt.hist([uber_fillna[is_churn][col_name].values, uber_fillna[~is_churn][col_name].values],\n",
    "             color = [color[2], color[5]], alpha = 0.7, bins = 7, width = 0.5, label = ['churn', 'active'])\n",
    "    plt.xlabel(col_name)\n",
    "    #plt.xlim([0, 50])\n",
    "    plt.ylabel(\"frequency\")\n",
    "    plt.title(\"Histogram of Churn rate based on %s\" %col_name)\n",
    "    plt.legend(loc = \"upper right\")\n",
    "    #add values of each bin as label\n",
    "    rects = ax.patches\n",
    "    #for each bin, place a label\n",
    "    for rect in rects:\n",
    "        y_value = rect.get_height()\n",
    "        x_value = rect.get_x() + rect.get_width()/2\n",
    "        space = 5\n",
    "        va = \"bottom\"\n",
    "        label = \"{:.1f}\".format(y_value)\n",
    "        #create annotation\n",
    "        plt.annotate(\n",
    "            label,\n",
    "            (x_value, y_value),\n",
    "            xytext = (0, space),\n",
    "            textcoords = \"offset points\",\n",
    "            ha = \"center\", \n",
    "            va = va)\n",
    "    plt.show()"
   ]
  },
  {
   "cell_type": "code",
   "execution_count": 12,
   "metadata": {},
   "outputs": [
    {
     "data": {
      "text/plain": [
       "Index(['avg_dist', 'avg_rating_by_driver', 'avg_rating_of_driver', 'avg_surge',\n",
       "       'city', 'last_trip_date', 'phone', 'signup_date', 'surge_pct',\n",
       "       'trips_in_first_30_days', 'luxury_car_user', 'weekday_pct',\n",
       "       'signup_dow', 'churn', 'active'],\n",
       "      dtype='object')"
      ]
     },
     "execution_count": 12,
     "metadata": {},
     "output_type": "execute_result"
    }
   ],
   "source": [
    "uber_fillna.columns"
   ]
  },
  {
   "cell_type": "code",
   "execution_count": 47,
   "metadata": {},
   "outputs": [
    {
     "data": {
      "image/png": "[encoded data removed]",
      "text/plain": [
       "<matplotlib.figure.Figure at 0x243117536d8>"
      ]
     },
     "metadata": {},
     "output_type": "display_data"
    },
    {
     "data": {
      "image/png": "[encoded data removed]",
      "text/plain": [
       "<matplotlib.figure.Figure at 0x2430edf77b8>"
      ]
     },
     "metadata": {},
     "output_type": "display_data"
    },
    {
     "data": {
      "image/png": "[encoded data removed]",
      "text/plain": [
       "<matplotlib.figure.Figure at 0x2430f1d2668>"
      ]
     },
     "metadata": {},
     "output_type": "display_data"
    }
   ],
   "source": [
    "uber_continuous = ['avg_rating_by_driver', 'avg_rating_of_driver', 'avg_surge']\n",
    "for col in uber_continuous:\n",
    "    hist_active_churn(uber_fillna, col_name = col)"
   ]
  },
  {
   "cell_type": "markdown",
   "metadata": {},
   "source": [
    "Although the numbers of average rate of/by driver of churn are higher than that of active, but that is because the churn precentage is also half more than active percentage. But we still can find some evidence that cause churn.\n",
    "we know churn/active = 0.62/0.37 = 1.7\n",
    "we can see the \"avg_rating_by_driver\" is almost 1.7 in score 5, but for lower score, the number of churn rider are much more larger than the number of active rider, which indicate that churn rider are more disliked by driver(they might have some argues with dirver) bad riding experience results in churn.\n",
    "But for \"rating of dirver\", it seems riders are satisfied with their driver, no matter churn rider or active rider. Which is a little opposite of what we find in last figure.\n",
    "We can find something about the surge charge. It seems that the number of churn riders in higher surge are much more than active rider. For example, avg_surge =2, #churn = 4.7#active, for avg_surge = 3, #churn = 13.5#active. Churn riders might paid more for surge fee, which results in their churn, but comparing to the majority, those high-surge riders are only 1.4% of total churn.. "
   ]
  },
  {
   "cell_type": "markdown",
   "metadata": {},
   "source": [
    "## Prediction"
   ]
  },
  {
   "cell_type": "code",
   "execution_count": 57,
   "metadata": {},
   "outputs": [
    {
     "data": {
      "text/html": [
       "<div>\n",
       "<style>\n",
       "    .dataframe thead tr:only-child th {\n",
       "        text-align: right;\n",
       "    }\n",
       "\n",
       "    .dataframe thead th {\n",
       "        text-align: left;\n",
       "    }\n",
       "\n",
       "    .dataframe tbody tr th {\n",
       "        vertical-align: top;\n",
       "    }\n",
       "</style>\n",
       "<table border=\"1\" class=\"dataframe\">\n",
       "  <thead>\n",
       "    <tr style=\"text-align: right;\">\n",
       "      <th></th>\n",
       "      <th>avg_dist</th>\n",
       "      <th>avg_rating_by_driver</th>\n",
       "      <th>avg_rating_of_driver</th>\n",
       "      <th>avg_surge</th>\n",
       "      <th>last_trip_date</th>\n",
       "      <th>signup_date</th>\n",
       "      <th>surge_pct</th>\n",
       "      <th>trips_in_first_30_days</th>\n",
       "      <th>luxury_car_user</th>\n",
       "      <th>weekday_pct</th>\n",
       "      <th>...</th>\n",
       "      <th>signup_dow_3</th>\n",
       "      <th>signup_dow_4</th>\n",
       "      <th>signup_dow_5</th>\n",
       "      <th>signup_dow_6</th>\n",
       "      <th>city_Astapor</th>\n",
       "      <th>city_King's Landing</th>\n",
       "      <th>city_Winterfell</th>\n",
       "      <th>phone_Android</th>\n",
       "      <th>phone_iPhone</th>\n",
       "      <th>phone_no_phone</th>\n",
       "    </tr>\n",
       "  </thead>\n",
       "  <tbody>\n",
       "    <tr>\n",
       "      <th>0</th>\n",
       "      <td>3.67</td>\n",
       "      <td>5.0</td>\n",
       "      <td>4.7</td>\n",
       "      <td>1.10</td>\n",
       "      <td>2014-06-17</td>\n",
       "      <td>2014-01-25</td>\n",
       "      <td>15.4</td>\n",
       "      <td>4</td>\n",
       "      <td>1</td>\n",
       "      <td>46.2</td>\n",
       "      <td>...</td>\n",
       "      <td>0</td>\n",
       "      <td>0</td>\n",
       "      <td>1</td>\n",
       "      <td>0</td>\n",
       "      <td>0</td>\n",
       "      <td>1</td>\n",
       "      <td>0</td>\n",
       "      <td>0</td>\n",
       "      <td>1</td>\n",
       "      <td>0</td>\n",
       "    </tr>\n",
       "    <tr>\n",
       "      <th>1</th>\n",
       "      <td>8.26</td>\n",
       "      <td>5.0</td>\n",
       "      <td>5.0</td>\n",
       "      <td>1.00</td>\n",
       "      <td>2014-05-05</td>\n",
       "      <td>2014-01-29</td>\n",
       "      <td>0.0</td>\n",
       "      <td>0</td>\n",
       "      <td>0</td>\n",
       "      <td>50.0</td>\n",
       "      <td>...</td>\n",
       "      <td>0</td>\n",
       "      <td>0</td>\n",
       "      <td>0</td>\n",
       "      <td>0</td>\n",
       "      <td>1</td>\n",
       "      <td>0</td>\n",
       "      <td>0</td>\n",
       "      <td>1</td>\n",
       "      <td>0</td>\n",
       "      <td>0</td>\n",
       "    </tr>\n",
       "    <tr>\n",
       "      <th>2</th>\n",
       "      <td>0.77</td>\n",
       "      <td>5.0</td>\n",
       "      <td>4.3</td>\n",
       "      <td>1.00</td>\n",
       "      <td>2014-01-07</td>\n",
       "      <td>2014-01-06</td>\n",
       "      <td>0.0</td>\n",
       "      <td>3</td>\n",
       "      <td>0</td>\n",
       "      <td>100.0</td>\n",
       "      <td>...</td>\n",
       "      <td>0</td>\n",
       "      <td>0</td>\n",
       "      <td>0</td>\n",
       "      <td>0</td>\n",
       "      <td>1</td>\n",
       "      <td>0</td>\n",
       "      <td>0</td>\n",
       "      <td>0</td>\n",
       "      <td>1</td>\n",
       "      <td>0</td>\n",
       "    </tr>\n",
       "    <tr>\n",
       "      <th>3</th>\n",
       "      <td>2.36</td>\n",
       "      <td>4.9</td>\n",
       "      <td>4.6</td>\n",
       "      <td>1.14</td>\n",
       "      <td>2014-06-29</td>\n",
       "      <td>2014-01-10</td>\n",
       "      <td>20.0</td>\n",
       "      <td>9</td>\n",
       "      <td>1</td>\n",
       "      <td>80.0</td>\n",
       "      <td>...</td>\n",
       "      <td>0</td>\n",
       "      <td>1</td>\n",
       "      <td>0</td>\n",
       "      <td>0</td>\n",
       "      <td>0</td>\n",
       "      <td>1</td>\n",
       "      <td>0</td>\n",
       "      <td>0</td>\n",
       "      <td>1</td>\n",
       "      <td>0</td>\n",
       "    </tr>\n",
       "    <tr>\n",
       "      <th>4</th>\n",
       "      <td>3.13</td>\n",
       "      <td>4.9</td>\n",
       "      <td>4.4</td>\n",
       "      <td>1.19</td>\n",
       "      <td>2014-03-15</td>\n",
       "      <td>2014-01-27</td>\n",
       "      <td>11.8</td>\n",
       "      <td>14</td>\n",
       "      <td>0</td>\n",
       "      <td>82.4</td>\n",
       "      <td>...</td>\n",
       "      <td>0</td>\n",
       "      <td>0</td>\n",
       "      <td>0</td>\n",
       "      <td>0</td>\n",
       "      <td>0</td>\n",
       "      <td>0</td>\n",
       "      <td>1</td>\n",
       "      <td>1</td>\n",
       "      <td>0</td>\n",
       "      <td>0</td>\n",
       "    </tr>\n",
       "  </tbody>\n",
       "</table>\n",
       "<p>5 rows × 24 columns</p>\n",
       "</div>"
      ],
      "text/plain": [
       "   avg_dist  avg_rating_by_driver  avg_rating_of_driver  avg_surge  \\\n",
       "0      3.67                   5.0                   4.7       1.10   \n",
       "1      8.26                   5.0                   5.0       1.00   \n",
       "2      0.77                   5.0                   4.3       1.00   \n",
       "3      2.36                   4.9                   4.6       1.14   \n",
       "4      3.13                   4.9                   4.4       1.19   \n",
       "\n",
       "  last_trip_date signup_date  surge_pct  trips_in_first_30_days  \\\n",
       "0     2014-06-17  2014-01-25       15.4                       4   \n",
       "1     2014-05-05  2014-01-29        0.0                       0   \n",
       "2     2014-01-07  2014-01-06        0.0                       3   \n",
       "3     2014-06-29  2014-01-10       20.0                       9   \n",
       "4     2014-03-15  2014-01-27       11.8                      14   \n",
       "\n",
       "   luxury_car_user  weekday_pct       ...        signup_dow_3  signup_dow_4  \\\n",
       "0                1         46.2       ...                   0             0   \n",
       "1                0         50.0       ...                   0             0   \n",
       "2                0        100.0       ...                   0             0   \n",
       "3                1         80.0       ...                   0             1   \n",
       "4                0         82.4       ...                   0             0   \n",
       "\n",
       "   signup_dow_5  signup_dow_6  city_Astapor  city_King's Landing  \\\n",
       "0             1             0             0                    1   \n",
       "1             0             0             1                    0   \n",
       "2             0             0             1                    0   \n",
       "3             0             0             0                    1   \n",
       "4             0             0             0                    0   \n",
       "\n",
       "   city_Winterfell  phone_Android  phone_iPhone  phone_no_phone  \n",
       "0                0              0             1               0  \n",
       "1                0              1             0               0  \n",
       "2                0              0             1               0  \n",
       "3                0              0             1               0  \n",
       "4                1              1             0               0  \n",
       "\n",
       "[5 rows x 24 columns]"
      ]
     },
     "execution_count": 57,
     "metadata": {},
     "output_type": "execute_result"
    }
   ],
   "source": [
    "uber_fillna_dummy.head()"
   ]
  },
  {
   "cell_type": "code",
   "execution_count": 58,
   "metadata": {},
   "outputs": [
    {
     "data": {
      "text/html": [
       "<div>\n",
       "<style>\n",
       "    .dataframe thead tr:only-child th {\n",
       "        text-align: right;\n",
       "    }\n",
       "\n",
       "    .dataframe thead th {\n",
       "        text-align: left;\n",
       "    }\n",
       "\n",
       "    .dataframe tbody tr th {\n",
       "        vertical-align: top;\n",
       "    }\n",
       "</style>\n",
       "<table border=\"1\" class=\"dataframe\">\n",
       "  <thead>\n",
       "    <tr style=\"text-align: right;\">\n",
       "      <th></th>\n",
       "      <th>avg_dist</th>\n",
       "      <th>avg_rating_by_driver</th>\n",
       "      <th>avg_rating_of_driver</th>\n",
       "      <th>avg_surge</th>\n",
       "      <th>surge_pct</th>\n",
       "      <th>trips_in_first_30_days</th>\n",
       "      <th>luxury_car_user</th>\n",
       "      <th>weekday_pct</th>\n",
       "      <th>churn</th>\n",
       "      <th>signup_dow_0</th>\n",
       "      <th>...</th>\n",
       "      <th>signup_dow_3</th>\n",
       "      <th>signup_dow_4</th>\n",
       "      <th>signup_dow_5</th>\n",
       "      <th>signup_dow_6</th>\n",
       "      <th>city_Astapor</th>\n",
       "      <th>city_King's Landing</th>\n",
       "      <th>city_Winterfell</th>\n",
       "      <th>phone_Android</th>\n",
       "      <th>phone_iPhone</th>\n",
       "      <th>phone_no_phone</th>\n",
       "    </tr>\n",
       "  </thead>\n",
       "  <tbody>\n",
       "    <tr>\n",
       "      <th>count</th>\n",
       "      <td>50000.000000</td>\n",
       "      <td>50000.000000</td>\n",
       "      <td>50000.000000</td>\n",
       "      <td>50000.000000</td>\n",
       "      <td>50000.000000</td>\n",
       "      <td>50000.000000</td>\n",
       "      <td>50000.00000</td>\n",
       "      <td>50000.000000</td>\n",
       "      <td>50000.000000</td>\n",
       "      <td>50000.000000</td>\n",
       "      <td>...</td>\n",
       "      <td>50000.000000</td>\n",
       "      <td>50000.000000</td>\n",
       "      <td>50000.000000</td>\n",
       "      <td>50000.000000</td>\n",
       "      <td>50000.000000</td>\n",
       "      <td>50000.000000</td>\n",
       "      <td>50000.000000</td>\n",
       "      <td>50000.000000</td>\n",
       "      <td>50000.000000</td>\n",
       "      <td>50000.000000</td>\n",
       "    </tr>\n",
       "    <tr>\n",
       "      <th>mean</th>\n",
       "      <td>5.796827</td>\n",
       "      <td>4.779050</td>\n",
       "      <td>4.650038</td>\n",
       "      <td>1.074764</td>\n",
       "      <td>8.849536</td>\n",
       "      <td>2.278200</td>\n",
       "      <td>0.37708</td>\n",
       "      <td>60.926084</td>\n",
       "      <td>0.623920</td>\n",
       "      <td>0.106860</td>\n",
       "      <td>...</td>\n",
       "      <td>0.138900</td>\n",
       "      <td>0.195340</td>\n",
       "      <td>0.194400</td>\n",
       "      <td>0.128260</td>\n",
       "      <td>0.330680</td>\n",
       "      <td>0.202600</td>\n",
       "      <td>0.466720</td>\n",
       "      <td>0.300440</td>\n",
       "      <td>0.691640</td>\n",
       "      <td>0.007920</td>\n",
       "    </tr>\n",
       "    <tr>\n",
       "      <th>std</th>\n",
       "      <td>5.707357</td>\n",
       "      <td>0.445974</td>\n",
       "      <td>0.575601</td>\n",
       "      <td>0.222336</td>\n",
       "      <td>19.958811</td>\n",
       "      <td>3.792684</td>\n",
       "      <td>0.48466</td>\n",
       "      <td>37.081503</td>\n",
       "      <td>0.484405</td>\n",
       "      <td>0.308938</td>\n",
       "      <td>...</td>\n",
       "      <td>0.345846</td>\n",
       "      <td>0.396466</td>\n",
       "      <td>0.395742</td>\n",
       "      <td>0.334382</td>\n",
       "      <td>0.470463</td>\n",
       "      <td>0.401941</td>\n",
       "      <td>0.498896</td>\n",
       "      <td>0.458454</td>\n",
       "      <td>0.461821</td>\n",
       "      <td>0.088642</td>\n",
       "    </tr>\n",
       "    <tr>\n",
       "      <th>min</th>\n",
       "      <td>0.000000</td>\n",
       "      <td>1.000000</td>\n",
       "      <td>1.000000</td>\n",
       "      <td>1.000000</td>\n",
       "      <td>0.000000</td>\n",
       "      <td>0.000000</td>\n",
       "      <td>0.00000</td>\n",
       "      <td>0.000000</td>\n",
       "      <td>0.000000</td>\n",
       "      <td>0.000000</td>\n",
       "      <td>...</td>\n",
       "      <td>0.000000</td>\n",
       "      <td>0.000000</td>\n",
       "      <td>0.000000</td>\n",
       "      <td>0.000000</td>\n",
       "      <td>0.000000</td>\n",
       "      <td>0.000000</td>\n",
       "      <td>0.000000</td>\n",
       "      <td>0.000000</td>\n",
       "      <td>0.000000</td>\n",
       "      <td>0.000000</td>\n",
       "    </tr>\n",
       "    <tr>\n",
       "      <th>25%</th>\n",
       "      <td>2.420000</td>\n",
       "      <td>4.700000</td>\n",
       "      <td>4.500000</td>\n",
       "      <td>1.000000</td>\n",
       "      <td>0.000000</td>\n",
       "      <td>0.000000</td>\n",
       "      <td>0.00000</td>\n",
       "      <td>33.300000</td>\n",
       "      <td>0.000000</td>\n",
       "      <td>0.000000</td>\n",
       "      <td>...</td>\n",
       "      <td>0.000000</td>\n",
       "      <td>0.000000</td>\n",
       "      <td>0.000000</td>\n",
       "      <td>0.000000</td>\n",
       "      <td>0.000000</td>\n",
       "      <td>0.000000</td>\n",
       "      <td>0.000000</td>\n",
       "      <td>0.000000</td>\n",
       "      <td>0.000000</td>\n",
       "      <td>0.000000</td>\n",
       "    </tr>\n",
       "    <tr>\n",
       "      <th>50%</th>\n",
       "      <td>3.880000</td>\n",
       "      <td>5.000000</td>\n",
       "      <td>4.900000</td>\n",
       "      <td>1.000000</td>\n",
       "      <td>0.000000</td>\n",
       "      <td>1.000000</td>\n",
       "      <td>0.00000</td>\n",
       "      <td>66.700000</td>\n",
       "      <td>1.000000</td>\n",
       "      <td>0.000000</td>\n",
       "      <td>...</td>\n",
       "      <td>0.000000</td>\n",
       "      <td>0.000000</td>\n",
       "      <td>0.000000</td>\n",
       "      <td>0.000000</td>\n",
       "      <td>0.000000</td>\n",
       "      <td>0.000000</td>\n",
       "      <td>0.000000</td>\n",
       "      <td>0.000000</td>\n",
       "      <td>1.000000</td>\n",
       "      <td>0.000000</td>\n",
       "    </tr>\n",
       "    <tr>\n",
       "      <th>75%</th>\n",
       "      <td>6.940000</td>\n",
       "      <td>5.000000</td>\n",
       "      <td>5.000000</td>\n",
       "      <td>1.050000</td>\n",
       "      <td>8.600000</td>\n",
       "      <td>3.000000</td>\n",
       "      <td>1.00000</td>\n",
       "      <td>100.000000</td>\n",
       "      <td>1.000000</td>\n",
       "      <td>0.000000</td>\n",
       "      <td>...</td>\n",
       "      <td>0.000000</td>\n",
       "      <td>0.000000</td>\n",
       "      <td>0.000000</td>\n",
       "      <td>0.000000</td>\n",
       "      <td>1.000000</td>\n",
       "      <td>0.000000</td>\n",
       "      <td>1.000000</td>\n",
       "      <td>1.000000</td>\n",
       "      <td>1.000000</td>\n",
       "      <td>0.000000</td>\n",
       "    </tr>\n",
       "    <tr>\n",
       "      <th>max</th>\n",
       "      <td>160.960000</td>\n",
       "      <td>5.000000</td>\n",
       "      <td>5.000000</td>\n",
       "      <td>8.000000</td>\n",
       "      <td>100.000000</td>\n",
       "      <td>125.000000</td>\n",
       "      <td>1.00000</td>\n",
       "      <td>100.000000</td>\n",
       "      <td>1.000000</td>\n",
       "      <td>1.000000</td>\n",
       "      <td>...</td>\n",
       "      <td>1.000000</td>\n",
       "      <td>1.000000</td>\n",
       "      <td>1.000000</td>\n",
       "      <td>1.000000</td>\n",
       "      <td>1.000000</td>\n",
       "      <td>1.000000</td>\n",
       "      <td>1.000000</td>\n",
       "      <td>1.000000</td>\n",
       "      <td>1.000000</td>\n",
       "      <td>1.000000</td>\n",
       "    </tr>\n",
       "  </tbody>\n",
       "</table>\n",
       "<p>8 rows × 22 columns</p>\n",
       "</div>"
      ],
      "text/plain": [
       "           avg_dist  avg_rating_by_driver  avg_rating_of_driver     avg_surge  \\\n",
       "count  50000.000000          50000.000000          50000.000000  50000.000000   \n",
       "mean       5.796827              4.779050              4.650038      1.074764   \n",
       "std        5.707357              0.445974              0.575601      0.222336   \n",
       "min        0.000000              1.000000              1.000000      1.000000   \n",
       "25%        2.420000              4.700000              4.500000      1.000000   \n",
       "50%        3.880000              5.000000              4.900000      1.000000   \n",
       "75%        6.940000              5.000000              5.000000      1.050000   \n",
       "max      160.960000              5.000000              5.000000      8.000000   \n",
       "\n",
       "          surge_pct  trips_in_first_30_days  luxury_car_user   weekday_pct  \\\n",
       "count  50000.000000            50000.000000      50000.00000  50000.000000   \n",
       "mean       8.849536                2.278200          0.37708     60.926084   \n",
       "std       19.958811                3.792684          0.48466     37.081503   \n",
       "min        0.000000                0.000000          0.00000      0.000000   \n",
       "25%        0.000000                0.000000          0.00000     33.300000   \n",
       "50%        0.000000                1.000000          0.00000     66.700000   \n",
       "75%        8.600000                3.000000          1.00000    100.000000   \n",
       "max      100.000000              125.000000          1.00000    100.000000   \n",
       "\n",
       "              churn  signup_dow_0       ...        signup_dow_3  signup_dow_4  \\\n",
       "count  50000.000000  50000.000000       ...        50000.000000  50000.000000   \n",
       "mean       0.623920      0.106860       ...            0.138900      0.195340   \n",
       "std        0.484405      0.308938       ...            0.345846      0.396466   \n",
       "min        0.000000      0.000000       ...            0.000000      0.000000   \n",
       "25%        0.000000      0.000000       ...            0.000000      0.000000   \n",
       "50%        1.000000      0.000000       ...            0.000000      0.000000   \n",
       "75%        1.000000      0.000000       ...            0.000000      0.000000   \n",
       "max        1.000000      1.000000       ...            1.000000      1.000000   \n",
       "\n",
       "       signup_dow_5  signup_dow_6  city_Astapor  city_King's Landing  \\\n",
       "count  50000.000000  50000.000000  50000.000000         50000.000000   \n",
       "mean       0.194400      0.128260      0.330680             0.202600   \n",
       "std        0.395742      0.334382      0.470463             0.401941   \n",
       "min        0.000000      0.000000      0.000000             0.000000   \n",
       "25%        0.000000      0.000000      0.000000             0.000000   \n",
       "50%        0.000000      0.000000      0.000000             0.000000   \n",
       "75%        0.000000      0.000000      1.000000             0.000000   \n",
       "max        1.000000      1.000000      1.000000             1.000000   \n",
       "\n",
       "       city_Winterfell  phone_Android  phone_iPhone  phone_no_phone  \n",
       "count     50000.000000   50000.000000  50000.000000    50000.000000  \n",
       "mean          0.466720       0.300440      0.691640        0.007920  \n",
       "std           0.498896       0.458454      0.461821        0.088642  \n",
       "min           0.000000       0.000000      0.000000        0.000000  \n",
       "25%           0.000000       0.000000      0.000000        0.000000  \n",
       "50%           0.000000       0.000000      1.000000        0.000000  \n",
       "75%           1.000000       1.000000      1.000000        0.000000  \n",
       "max           1.000000       1.000000      1.000000        1.000000  \n",
       "\n",
       "[8 rows x 22 columns]"
      ]
     },
     "execution_count": 58,
     "metadata": {},
     "output_type": "execute_result"
    }
   ],
   "source": [
    "uber_fillna_dummy.describe()"
   ]
  },
  {
   "cell_type": "markdown",
   "metadata": {},
   "source": [
    "### Build Logistic Regression Model\n",
    "##### Define features and target"
   ]
  },
  {
   "cell_type": "code",
   "execution_count": 60,
   "metadata": {},
   "outputs": [
    {
     "data": {
      "text/plain": [
       "Index(['avg_dist', 'avg_rating_by_driver', 'avg_rating_of_driver', 'avg_surge',\n",
       "       'last_trip_date', 'signup_date', 'surge_pct', 'trips_in_first_30_days',\n",
       "       'luxury_car_user', 'weekday_pct', 'churn', 'signup_dow_0',\n",
       "       'signup_dow_1', 'signup_dow_2', 'signup_dow_3', 'signup_dow_4',\n",
       "       'signup_dow_5', 'signup_dow_6', 'city_Astapor', 'city_King's Landing',\n",
       "       'city_Winterfell', 'phone_Android', 'phone_iPhone', 'phone_no_phone'],\n",
       "      dtype='object')"
      ]
     },
     "execution_count": 60,
     "metadata": {},
     "output_type": "execute_result"
    }
   ],
   "source": [
    "uber_p = uber_fillna_dummy.copy()\n",
    "uber_p.columns"
   ]
  },
  {
   "cell_type": "code",
   "execution_count": 80,
   "metadata": {
    "collapsed": true
   },
   "outputs": [],
   "source": [
    "#since we already using signup_date, city, phone in feature engineering to generate signup_dow\n",
    "#and last_trip_date to indicate churn label, so they are not needed for the model any more\n",
    "selected_features = ['avg_dist', 'avg_rating_by_driver', 'avg_rating_of_driver', 'avg_surge',\n",
    "       'surge_pct', 'trips_in_first_30_days',\n",
    "       'luxury_car_user', 'weekday_pct', 'churn', 'signup_dow_0',\n",
    "       'signup_dow_1', 'signup_dow_2', 'signup_dow_3', 'signup_dow_4',\n",
    "       'signup_dow_5', 'signup_dow_6', 'city_Astapor', \"city_King's Landing\",\n",
    "       'city_Winterfell', 'phone_Android', 'phone_iPhone', 'phone_no_phone']\n",
    "target = 'churn'"
   ]
  },
  {
   "cell_type": "code",
   "execution_count": 81,
   "metadata": {},
   "outputs": [
    {
     "name": "stdout",
     "output_type": "stream",
     "text": [
      "(50000, 22)\n",
      "[0 1 1 ..., 1 1 1]\n"
     ]
    }
   ],
   "source": [
    "X = uber_p[selected_features].values\n",
    "y = uber_p['churn'].values\n",
    "print(X.shape)\n",
    "print(y)"
   ]
  },
  {
   "cell_type": "markdown",
   "metadata": {},
   "source": [
    "#### Split data into train/test\n",
    "Apply cross-validation to split data"
   ]
  },
  {
   "cell_type": "code",
   "execution_count": 88,
   "metadata": {},
   "outputs": [
    {
     "name": "stdout",
     "output_type": "stream",
     "text": [
      "(40000, 22)\n"
     ]
    }
   ],
   "source": [
    "from sklearn.cross_validation import train_test_split\n",
    "X_train, X_test, y_train, y_test = train_test_split(X,y,test_size = 0.2, random_state = 111)\n",
    "print(X_train.shape)"
   ]
  },
  {
   "cell_type": "code",
   "execution_count": 89,
   "metadata": {},
   "outputs": [],
   "source": [
    "from sklearn.linear_model import LogisticRegression\n",
    "#Initialize model with parameters, just first trial\n",
    "'''\n",
    "class sklearn.linear_model.LogisticRegression(penalty=’l2’,\n",
    "dual=False, tol=0.0001, C=1.0, fit_intercept=True, intercept_scaling=1, \n",
    "class_weight=None, random_state=None, solver=’liblinear’, max_iter=100,\n",
    "multi_class=’ovr’, verbose=0, warm_start=False, n_jobs=1)\n",
    "'''\n",
    "lr = LogisticRegression(C=100000, fit_intercept = True)\n",
    "#Fit the model\n",
    "lr.fit(X_train, y_train)\n",
    "#Make prodiction on the training set\n",
    "y_train_pred = lr.predict(X_train)\n",
    "#Make predictions on test set\n",
    "y_test_pred = lr.predict(X_test)\n",
    "#logistic regression model can only take float/int variables, variables in timestamp format\n",
    "#is not allowed"
   ]
  },
  {
   "cell_type": "markdown",
   "metadata": {},
   "source": [
    "#### Calculate the metric scores for this model"
   ]
  },
  {
   "cell_type": "code",
   "execution_count": 84,
   "metadata": {
    "collapsed": true
   },
   "outputs": [],
   "source": [
    "from sklearn.metrics import precision_score, accuracy_score, recall_score, f1_score, roc_auc_score"
   ]
  },
  {
   "cell_type": "code",
   "execution_count": 85,
   "metadata": {
    "collapsed": true
   },
   "outputs": [],
   "source": [
    "def print_results(y_true, y_pred):\n",
    "    print('Precision of the Logistic Regression is :{}'.format(precision_score(y_true, y_pred)))\n",
    "    print('Accuracy of the Logistic Regression is :{}'.format(accuracy_score(y_true, y_pred)))\n",
    "    print('Recall of the Logistic Regression is :{}'.format(recall_score(y_true, y_pred)))\n",
    "    print('f1-score of the Logistic Regression is :{}'.format(f1_score(y_true, y_pred)))"
   ]
  },
  {
   "cell_type": "code",
   "execution_count": 90,
   "metadata": {},
   "outputs": [
    {
     "name": "stdout",
     "output_type": "stream",
     "text": [
      "Training set scores:\n",
      "Precision of the Logistic Regression is :1.0\n",
      "Accuracy of the Logistic Regression is :1.0\n",
      "Recall of the Logistic Regression is :1.0\n",
      "f1-score of the Logistic Regression is :1.0\n"
     ]
    }
   ],
   "source": [
    "print('Training set scores:')\n",
    "print_results(y_train, y_train_pred)"
   ]
  }
 ],
 "metadata": {
  "kernelspec": {
   "display_name": "Python 3",
   "language": "python",
   "name": "python3"
  },
  "language_info": {
   "codemirror_mode": {
    "name": "ipython",
    "version": 3
   },
   "file_extension": ".py",
   "mimetype": "text/x-python",
   "name": "python",
   "nbconvert_exporter": "python",
   "pygments_lexer": "ipython3",
   "version": "3.6.1"
  }
 },
 "nbformat": 4,
 "nbformat_minor": 2
}
