{
 "cells": [
  {
   "cell_type": "code",
   "execution_count": 47,
   "metadata": {},
   "outputs": [
    {
     "ename": "ModuleNotFoundError",
     "evalue": "No module named 'shapely'",
     "output_type": "error",
     "traceback": [
      "\u001b[1;31m---------------------------------------------------------------------------\u001b[0m",
      "\u001b[1;31mModuleNotFoundError\u001b[0m                       Traceback (most recent call last)",
      "\u001b[1;32m<ipython-input-47-30ae61aedbcd>\u001b[0m in \u001b[0;36m<module>\u001b[1;34m()\u001b[0m\n\u001b[0;32m      4\u001b[0m \u001b[1;32mimport\u001b[0m \u001b[0mos\u001b[0m\u001b[1;33m,\u001b[0m \u001b[0mjson\u001b[0m\u001b[1;33m,\u001b[0m \u001b[0mrequests\u001b[0m\u001b[1;33m,\u001b[0m \u001b[0mpickle\u001b[0m\u001b[1;33m\u001b[0m\u001b[0m\n\u001b[0;32m      5\u001b[0m \u001b[1;32mfrom\u001b[0m \u001b[0mscipy\u001b[0m\u001b[1;33m.\u001b[0m\u001b[0mstats\u001b[0m \u001b[1;32mimport\u001b[0m \u001b[0mskew\u001b[0m\u001b[1;33m\u001b[0m\u001b[0m\n\u001b[1;32m----> 6\u001b[1;33m \u001b[1;32mfrom\u001b[0m \u001b[0mshapely\u001b[0m\u001b[1;33m.\u001b[0m\u001b[0mgeometry\u001b[0m \u001b[1;32mimport\u001b[0m \u001b[0mPoint\u001b[0m\u001b[1;33m,\u001b[0m\u001b[0mPolygon\u001b[0m\u001b[1;33m,\u001b[0m\u001b[0mMultiPoint\u001b[0m\u001b[1;33m,\u001b[0m\u001b[0mMultiPolygon\u001b[0m\u001b[1;33m\u001b[0m\u001b[0m\n\u001b[0m\u001b[0;32m      7\u001b[0m \u001b[1;32mfrom\u001b[0m \u001b[0mscipy\u001b[0m\u001b[1;33m.\u001b[0m\u001b[0mstats\u001b[0m \u001b[1;32mimport\u001b[0m \u001b[0mttest_ind\u001b[0m\u001b[1;33m,\u001b[0m \u001b[0mf_oneway\u001b[0m\u001b[1;33m,\u001b[0m \u001b[0mlognorm\u001b[0m\u001b[1;33m,\u001b[0m \u001b[0mlevy\u001b[0m\u001b[1;33m,\u001b[0m \u001b[0mskew\u001b[0m\u001b[1;33m,\u001b[0m \u001b[0mchisquare\u001b[0m\u001b[1;33m\u001b[0m\u001b[0m\n\u001b[0;32m      8\u001b[0m \u001b[1;31m#import scipy.stats as st\u001b[0m\u001b[1;33m\u001b[0m\u001b[1;33m\u001b[0m\u001b[0m\n",
      "\u001b[1;31mModuleNotFoundError\u001b[0m: No module named 'shapely'"
     ]
    }
   ],
   "source": [
    "import numpy as np\n",
    "import pandas as pd\n",
    "import matplotlib.pyplot as plt\n",
    "import os, json, requests, pickle\n",
    "from scipy.stats import skew\n",
    "from shapely.geometry import Point,Polygon,MultiPoint,MultiPolygon\n",
    "from scipy.stats import ttest_ind, f_oneway, lognorm, levy, skew, chisquare\n",
    "#import scipy.stats as st\n",
    "from sklearn.preprocessing import normalize, scale\n",
    "from tabulate import tabulate #pretty print of tables. source: http://txt.arboreus.com/2013/03/13/pretty-print-tables-in-python.html\n",
    "from shapely.geometry import Point,Polygon,MultiPoint\n",
    "\n",
    "%matplotlib inline"
   ]
  },
  {
   "cell_type": "markdown",
   "metadata": {},
   "source": [
    "based on New York green taxi record, do exploratory data analysis and then making prediction model \n",
    "about how much tips will driver get per trip"
   ]
  },
  {
   "cell_type": "markdown",
   "metadata": {},
   "source": [
    "Load in data and take a first glance"
   ]
  },
  {
   "cell_type": "code",
   "execution_count": 35,
   "metadata": {},
   "outputs": [
    {
     "name": "stdout",
     "output_type": "stream",
     "text": [
      "Number of obs: 1494926\n",
      "Number of features: 21\n",
      "   VendorID lpep_pickup_datetime Lpep_dropoff_datetime Store_and_fwd_flag  \\\n",
      "0         2  2015-09-01 00:02:34   2015-09-01 00:02:38                  N   \n",
      "1         2  2015-09-01 00:04:20   2015-09-01 00:04:24                  N   \n",
      "2         2  2015-09-01 00:01:50   2015-09-01 00:04:24                  N   \n",
      "3         2  2015-09-01 00:02:36   2015-09-01 00:06:42                  N   \n",
      "4         2  2015-09-01 00:00:14   2015-09-01 00:04:20                  N   \n",
      "\n",
      "   RateCodeID  Pickup_longitude  Pickup_latitude  Dropoff_longitude  \\\n",
      "0           5        -73.979485        40.684956         -73.979431   \n",
      "1           5        -74.010796        40.912216         -74.010780   \n",
      "2           1        -73.921410        40.766708         -73.914413   \n",
      "3           1        -73.921387        40.766678         -73.931427   \n",
      "4           1        -73.955482        40.714046         -73.944412   \n",
      "\n",
      "   Dropoff_latitude  Passenger_count     ...      Fare_amount  Extra  MTA_tax  \\\n",
      "0         40.685020                1     ...              7.8    0.0      0.0   \n",
      "1         40.912212                1     ...             45.0    0.0      0.0   \n",
      "2         40.764687                1     ...              4.0    0.5      0.5   \n",
      "3         40.771584                1     ...              5.0    0.5      0.5   \n",
      "4         40.714729                1     ...              5.0    0.5      0.5   \n",
      "\n",
      "   Tip_amount  Tolls_amount  Ehail_fee  improvement_surcharge  Total_amount  \\\n",
      "0        1.95           0.0        NaN                    0.0          9.75   \n",
      "1        0.00           0.0        NaN                    0.0         45.00   \n",
      "2        0.50           0.0        NaN                    0.3          5.80   \n",
      "3        0.00           0.0        NaN                    0.3          6.30   \n",
      "4        0.00           0.0        NaN                    0.3          6.30   \n",
      "\n",
      "   Payment_type  Trip_type   \n",
      "0             1         2.0  \n",
      "1             1         2.0  \n",
      "2             1         1.0  \n",
      "3             2         1.0  \n",
      "4             2         1.0  \n",
      "\n",
      "[5 rows x 21 columns]\n"
     ]
    }
   ],
   "source": [
    "if os.path.exists(\"green_tripdata_2015-09.csv\"):\n",
    "    nytaxi = pd.read_csv(\"green_tripdata_2015-09.csv\")\n",
    "else:\n",
    "    url = \"https://s3.amazonaws.com/nyc-tlc/trip+data/green_tripdata_2015-09.csv\"\n",
    "    nytaxi = pd.read_csv(url)\n",
    "    nytaxi.to_csv(url.split('/')[-1])\n",
    "print(\"Number of obs:\", nytaxi.shape[0])\n",
    "print(\"Number of features:\", nytaxi.shape[1])\n",
    "print(nytaxi.head())"
   ]
  },
  {
   "cell_type": "code",
   "execution_count": 26,
   "metadata": {},
   "outputs": [
    {
     "name": "stdout",
     "output_type": "stream",
     "text": [
      "   VendorID lpep_pickup_datetime Lpep_dropoff_datetime Store_and_fwd_flag  \\\n",
      "0         2  2015-09-01 00:02:34   2015-09-01 00:02:38                  N   \n",
      "1         2  2015-09-01 00:04:20   2015-09-01 00:04:24                  N   \n",
      "2         2  2015-09-01 00:01:50   2015-09-01 00:04:24                  N   \n",
      "3         2  2015-09-01 00:02:36   2015-09-01 00:06:42                  N   \n",
      "4         2  2015-09-01 00:00:14   2015-09-01 00:04:20                  N   \n",
      "\n",
      "   RateCodeID  Pickup_longitude  Pickup_latitude  Dropoff_longitude  \\\n",
      "0           5        -73.979485        40.684956         -73.979431   \n",
      "1           5        -74.010796        40.912216         -74.010780   \n",
      "2           1        -73.921410        40.766708         -73.914413   \n",
      "3           1        -73.921387        40.766678         -73.931427   \n",
      "4           1        -73.955482        40.714046         -73.944412   \n",
      "\n",
      "   Dropoff_latitude  Passenger_count     ...      Fare_amount  Extra  MTA_tax  \\\n",
      "0         40.685020                1     ...              7.8    0.0      0.0   \n",
      "1         40.912212                1     ...             45.0    0.0      0.0   \n",
      "2         40.764687                1     ...              4.0    0.5      0.5   \n",
      "3         40.771584                1     ...              5.0    0.5      0.5   \n",
      "4         40.714729                1     ...              5.0    0.5      0.5   \n",
      "\n",
      "   Tip_amount  Tolls_amount  Ehail_fee  improvement_surcharge  Total_amount  \\\n",
      "0        1.95           0.0        NaN                    0.0          9.75   \n",
      "1        0.00           0.0        NaN                    0.0         45.00   \n",
      "2        0.50           0.0        NaN                    0.3          5.80   \n",
      "3        0.00           0.0        NaN                    0.3          6.30   \n",
      "4        0.00           0.0        NaN                    0.3          6.30   \n",
      "\n",
      "   Payment_type  Trip_type   \n",
      "0             1         2.0  \n",
      "1             1         2.0  \n",
      "2             1         1.0  \n",
      "3             2         1.0  \n",
      "4             2         1.0  \n",
      "\n",
      "[5 rows x 21 columns]\n",
      "['VendorID', 'lpep_pickup_datetime', 'Lpep_dropoff_datetime', 'Store_and_fwd_flag', 'RateCodeID', 'Pickup_longitude', 'Pickup_latitude', 'Dropoff_longitude', 'Dropoff_latitude', 'Passenger_count', 'Trip_distance', 'Fare_amount', 'Extra', 'MTA_tax', 'Tip_amount', 'Tolls_amount', 'Ehail_fee', 'improvement_surcharge', 'Total_amount', 'Payment_type', 'Trip_type ']\n"
     ]
    }
   ],
   "source": [
    "nytaxi = pd.read_csv(\"green_tripdata_2015-09.csv\")\n",
    "#take a glance at our data\n",
    "print(nytaxi.head())\n",
    "print(list(nytaxi))"
   ]
  },
  {
   "cell_type": "code",
   "execution_count": 30,
   "metadata": {},
   "outputs": [
    {
     "data": {
      "text/plain": [
       "['VendorID',\n",
       " 'lpep_pickup_datetime',\n",
       " 'Lpep_dropoff_datetime',\n",
       " 'Store_and_fwd_flag',\n",
       " 'RateCodeID',\n",
       " 'Pickup_longitude',\n",
       " 'Pickup_latitude',\n",
       " 'Dropoff_longitude',\n",
       " 'Dropoff_latitude',\n",
       " 'Passenger_count',\n",
       " 'Trip_distance',\n",
       " 'Fare_amount',\n",
       " 'Extra',\n",
       " 'MTA_tax',\n",
       " 'Tip_amount',\n",
       " 'Tolls_amount',\n",
       " 'Ehail_fee',\n",
       " 'improvement_surcharge',\n",
       " 'Total_amount',\n",
       " 'Payment_type',\n",
       " 'Trip_type']"
      ]
     },
     "execution_count": 30,
     "metadata": {},
     "output_type": "execute_result"
    }
   ],
   "source": [
    "#the last variable is really annoying, with \"Trip_type \"(there is a blank at the end!), rename it\n",
    "nytaxi.rename(columns ={'Trip_type ':'Trip_type'}, inplace = True)\n",
    "list(nytaxi)"
   ]
  },
  {
   "cell_type": "code",
   "execution_count": 8,
   "metadata": {},
   "outputs": [
    {
     "name": "stdout",
     "output_type": "stream",
     "text": [
      "Number of obs: 1494926\n",
      "Number of features: 21\n",
      "<class 'pandas.core.frame.DataFrame'>\n",
      "RangeIndex: 1494926 entries, 0 to 1494925\n",
      "Data columns (total 21 columns):\n",
      "VendorID                 1494926 non-null int64\n",
      "lpep_pickup_datetime     1494926 non-null object\n",
      "Lpep_dropoff_datetime    1494926 non-null object\n",
      "Store_and_fwd_flag       1494926 non-null object\n",
      "RateCodeID               1494926 non-null int64\n",
      "Pickup_longitude         1494926 non-null float64\n",
      "Pickup_latitude          1494926 non-null float64\n",
      "Dropoff_longitude        1494926 non-null float64\n",
      "Dropoff_latitude         1494926 non-null float64\n",
      "Passenger_count          1494926 non-null int64\n",
      "Trip_distance            1494926 non-null float64\n",
      "Fare_amount              1494926 non-null float64\n",
      "Extra                    1494926 non-null float64\n",
      "MTA_tax                  1494926 non-null float64\n",
      "Tip_amount               1494926 non-null float64\n",
      "Tolls_amount             1494926 non-null float64\n",
      "Ehail_fee                0 non-null float64\n",
      "improvement_surcharge    1494926 non-null float64\n",
      "Total_amount             1494926 non-null float64\n",
      "Payment_type             1494926 non-null int64\n",
      "Trip_type                1494922 non-null float64\n",
      "dtypes: float64(14), int64(4), object(3)\n",
      "memory usage: 239.5+ MB\n",
      "None\n",
      "           VendorID    RateCodeID  Pickup_longitude  Pickup_latitude  \\\n",
      "count  1.494926e+06  1.494926e+06      1.494926e+06     1.494926e+06   \n",
      "mean   1.782045e+00  1.097653e+00     -7.383084e+01     4.069114e+01   \n",
      "std    4.128570e-01  6.359437e-01      2.776082e+00     1.530882e+00   \n",
      "min    1.000000e+00  1.000000e+00     -8.331908e+01     0.000000e+00   \n",
      "25%    2.000000e+00  1.000000e+00     -7.395961e+01     4.069895e+01   \n",
      "50%    2.000000e+00  1.000000e+00     -7.394536e+01     4.074674e+01   \n",
      "75%    2.000000e+00  1.000000e+00     -7.391748e+01     4.080255e+01   \n",
      "max    2.000000e+00  9.900000e+01      0.000000e+00     4.317726e+01   \n",
      "\n",
      "       Dropoff_longitude  Dropoff_latitude  Passenger_count  Trip_distance  \\\n",
      "count       1.494926e+06      1.494926e+06     1.494926e+06   1.494926e+06   \n",
      "mean       -7.383728e+01      4.069291e+01     1.370598e+00   2.968141e+00   \n",
      "std         2.677911e+00      1.476698e+00     1.039426e+00   3.076621e+00   \n",
      "min        -8.342784e+01      0.000000e+00     0.000000e+00   0.000000e+00   \n",
      "25%        -7.396782e+01      4.069878e+01     1.000000e+00   1.100000e+00   \n",
      "50%        -7.394504e+01      4.074728e+01     1.000000e+00   1.980000e+00   \n",
      "75%        -7.391013e+01      4.079015e+01     1.000000e+00   3.740000e+00   \n",
      "max         0.000000e+00      4.279934e+01     9.000000e+00   6.031000e+02   \n",
      "\n",
      "        Fare_amount         Extra       MTA_tax    Tip_amount  Tolls_amount  \\\n",
      "count  1.494926e+06  1.494926e+06  1.494926e+06  1.494926e+06  1.494926e+06   \n",
      "mean   1.254320e+01  3.512800e-01  4.866408e-01  1.235727e+00  1.231047e-01   \n",
      "std    1.008278e+01  3.663096e-01  8.504473e-02  2.431476e+00  8.910137e-01   \n",
      "min   -4.750000e+02 -1.000000e+00 -5.000000e-01 -5.000000e+01 -1.529000e+01   \n",
      "25%    6.500000e+00  0.000000e+00  5.000000e-01  0.000000e+00  0.000000e+00   \n",
      "50%    9.500000e+00  5.000000e-01  5.000000e-01  0.000000e+00  0.000000e+00   \n",
      "75%    1.550000e+01  5.000000e-01  5.000000e-01  2.000000e+00  0.000000e+00   \n",
      "max    5.805000e+02  1.200000e+01  5.000000e-01  3.000000e+02  9.575000e+01   \n",
      "\n",
      "       Ehail_fee  improvement_surcharge  Total_amount  Payment_type  \\\n",
      "count        0.0           1.494926e+06  1.494926e+06  1.494926e+06   \n",
      "mean         NaN           2.920991e-01  1.503215e+01  1.540559e+00   \n",
      "std          NaN           5.074009e-02  1.155316e+01  5.232935e-01   \n",
      "min          NaN          -3.000000e-01 -4.750000e+02  1.000000e+00   \n",
      "25%          NaN           3.000000e-01  8.160000e+00  1.000000e+00   \n",
      "50%          NaN           3.000000e-01  1.176000e+01  2.000000e+00   \n",
      "75%          NaN           3.000000e-01  1.830000e+01  2.000000e+00   \n",
      "max          NaN           3.000000e-01  5.813000e+02  5.000000e+00   \n",
      "\n",
      "         Trip_type   \n",
      "count  1.494922e+06  \n",
      "mean   1.022353e+00  \n",
      "std    1.478288e-01  \n",
      "min    1.000000e+00  \n",
      "25%    1.000000e+00  \n",
      "50%    1.000000e+00  \n",
      "75%    1.000000e+00  \n",
      "max    2.000000e+00  \n"
     ]
    }
   ],
   "source": [
    "#see some numbers and types of our data\n",
    "print(\"Number of obs:\", nytaxi.shape[0])\n",
    "print(\"Number of features:\", nytaxi.shape[1])\n",
    "print(nytaxi.info())\n",
    "print(nytaxi.describe())\n",
    "'''\n",
    "Actually, from the head of dataset, we can see the features:\n",
    "lpep_pickup_datetime, lpep_dropoff_datetime is DATE\n",
    "Store_and_fwd_flag is Boolean\n",
    "VendorID, RateCodeID, Passenger_count, Payment_type, Trip_type are discrete variables\n",
    "'''"
   ]
  },
  {
   "cell_type": "code",
   "execution_count": 31,
   "metadata": {},
   "outputs": [
    {
     "name": "stdout",
     "output_type": "stream",
     "text": [
      "2    1169099\n",
      "1     325827\n",
      "Name: VendorID, dtype: int64\n",
      "1     1454464\n",
      "5       33943\n",
      "2        4435\n",
      "3        1117\n",
      "4         925\n",
      "6          36\n",
      "99          6\n",
      "Name: RateCodeID, dtype: int64\n",
      "1    1255832\n",
      "2     115014\n",
      "5      57907\n",
      "3      33812\n",
      "6      22091\n",
      "4       9769\n",
      "0        440\n",
      "8         30\n",
      "9         16\n",
      "7         15\n",
      "Name: Passenger_count, dtype: int64\n",
      "2    783699\n",
      "1    701287\n",
      "3      5498\n",
      "4      4368\n",
      "5        74\n",
      "Name: Payment_type, dtype: int64\n",
      "Trip_type    1494926\n",
      "Name: Trip_type, dtype: int64\n"
     ]
    }
   ],
   "source": [
    "print(nytaxi[\"VendorID\"].value_counts())\n",
    "print(nytaxi[\"RateCodeID\"].value_counts())\n",
    "print(nytaxi[\"Passenger_count\"].value_counts())\n",
    "print(nytaxi[\"Payment_type\"].value_counts())\n",
    "print(nytaxi[\"Trip_type\"].value_counts())"
   ]
  },
  {
   "cell_type": "code",
   "execution_count": 48,
   "metadata": {},
   "outputs": [
    {
     "name": "stdout",
     "output_type": "stream",
     "text": [
      "38204 1494926\n"
     ]
    },
    {
     "ename": "NameError",
     "evalue": "name 'lognorm' is not defined",
     "output_type": "error",
     "traceback": [
      "\u001b[1;31m---------------------------------------------------------------------------\u001b[0m",
      "\u001b[1;31mNameError\u001b[0m                                 Traceback (most recent call last)",
      "\u001b[1;32m<ipython-input-48-b032417c96fc>\u001b[0m in \u001b[0;36m<module>\u001b[1;34m()\u001b[0m\n\u001b[0;32m     19\u001b[0m \u001b[1;33m\u001b[0m\u001b[0m\n\u001b[0;32m     20\u001b[0m \u001b[1;31m#add a fitness line(lognormal) Use the mean of trip distance as the scale parameter\u001b[0m\u001b[1;33m\u001b[0m\u001b[1;33m\u001b[0m\u001b[0m\n\u001b[1;32m---> 21\u001b[1;33m scatter,loc,mean = lognorm.fit(nytaxi.Trip_distance.values,\n\u001b[0m\u001b[0;32m     22\u001b[0m                                \u001b[0mscale\u001b[0m\u001b[1;33m=\u001b[0m\u001b[0mnytaxi\u001b[0m\u001b[1;33m.\u001b[0m\u001b[0mTrip_distance\u001b[0m\u001b[1;33m.\u001b[0m\u001b[0mmean\u001b[0m\u001b[1;33m(\u001b[0m\u001b[1;33m)\u001b[0m\u001b[1;33m,\u001b[0m\u001b[1;33m\u001b[0m\u001b[0m\n\u001b[0;32m     23\u001b[0m                                loc=0)\n",
      "\u001b[1;31mNameError\u001b[0m: name 'lognorm' is not defined"
     ]
    }
   ],
   "source": [
    "#take a look at the distribution of those variables\n",
    "fig, ax = plt.subplots(1,2, figsize = (10,4))\n",
    "nytaxi.Trip_distance.hist(bins = 30, ax = ax[0])\n",
    "ax[0].set_xlabel('Trip Distance (miles)')\n",
    "ax[0].set_ylabel('Count')\n",
    "ax[0].set_yscale('log')\n",
    "ax[0].set_title('Histogram of Trip Distance with outliers included')\n",
    "#now we can see there are some outliers with extremely long trip distance\n",
    "#we may mainly focus on majority data, so drop those which are outside of 3sigma from the mean\n",
    "#plot histogram again\n",
    "distance = nytaxi.Trip_distance\n",
    "distance_d = distance[((distance-distance.median()).abs() > 3* distance.std())]\n",
    "print(distance_d.shape[0], distance.shape[0])\n",
    "#if use mean-3*sd, there is only 29192/1494926 left.. try median there is 38204/1494926 left \n",
    "distance_d.hist(bins = 30, ax=ax[1])\n",
    "ax[1].set_xlabel('Trip Distance (miles)')\n",
    "ax[1].set_ylabel('Count')\n",
    "ax[1].set_title('A. Histogram of Trip Distance (without outliers)')\n",
    "\n",
    "#add a fitness line(lognormal) Use the mean of trip distance as the scale parameter\n",
    "scatter,loc,mean = lognorm.fit(nytaxi.Trip_distance.values,\n",
    "                               scale=nytaxi.Trip_distance.mean(),\n",
    "                               loc=0)\n",
    "pdf_fitted = lognorm.pdf(np.arange(0,12,.1),scatter,loc,mean)\n",
    "ax[1].plot(np.arange(0,12,.1),600000*pdf_fitted,'r') \n",
    "ax[1].legend(['data','lognormal fit'])\n",
    "plt.show()\n"
   ]
  },
  {
   "cell_type": "code",
   "execution_count": 44,
   "metadata": {},
   "outputs": [
    {
     "name": "stdout",
     "output_type": "stream",
     "text": [
      "38204 1494926\n"
     ]
    },
    {
     "data": {
      "text/plain": [
       "\"\\n.hist(bins = 30, ax=ax[1])\\nax[1].set_xlabel('Trip Distance (miles)')\\nax[1].set_ylabel('Count')\\nax[1].set_title('A. Histogram of Trip Distance (without outliers)')\\n\""
      ]
     },
     "execution_count": 44,
     "metadata": {},
     "output_type": "execute_result"
    }
   ],
   "source": []
  }
 ],
 "metadata": {
  "kernelspec": {
   "display_name": "Python 3",
   "language": "python",
   "name": "python3"
  },
  "language_info": {
   "codemirror_mode": {
    "name": "ipython",
    "version": 3
   },
   "file_extension": ".py",
   "mimetype": "text/x-python",
   "name": "python",
   "nbconvert_exporter": "python",
   "pygments_lexer": "ipython3",
   "version": "3.6.1"
  }
 },
 "nbformat": 4,
 "nbformat_minor": 2
}
